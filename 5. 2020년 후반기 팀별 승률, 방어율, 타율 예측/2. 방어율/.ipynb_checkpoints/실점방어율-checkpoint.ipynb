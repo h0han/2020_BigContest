{
 "cells": [
  {
   "cell_type": "markdown",
   "metadata": {},
   "source": [
    "kbreport에서 자료 가져옴"
   ]
  },
  {
   "cell_type": "markdown",
   "metadata": {},
   "source": [
    "선형회귀를 이용해 방어율구함"
   ]
  },
  {
   "cell_type": "code",
   "execution_count": 1,
   "metadata": {},
   "outputs": [],
   "source": [
    "import warnings\n",
    "warnings.simplefilter(action='ignore', category=FutureWarning)\n",
    "warnings.filterwarnings(action='ignore')\n",
    "import pandas as pd\n",
    "import platform\n",
    "import matplotlib\n",
    "if platform.system() == 'Windows':\n",
    "    matplotlib.rc('font', family='Malgun Gothic')\n",
    "elif platform.system() == 'Darwin':\n",
    "    matplotlib.rc('font', family='AppleGothic')\n",
    "else:\n",
    "    matplotlib.rc('font', family='NanumGothic')\n",
    "    \n",
    "import tensorflow as tf  \n",
    "tf.compat.v1.logging.set_verbosity(tf.compat.v1.logging.ERROR)    \n",
    "import numpy as np"
   ]
  },
  {
   "cell_type": "code",
   "execution_count": 2,
   "metadata": {},
   "outputs": [],
   "source": [
    "from sklearn.linear_model import LinearRegression\n",
    "from sklearn.tree import DecisionTreeRegressor\n",
    "from sklearn.svm import SVR\n",
    "\n",
    "from sklearn.ensemble import VotingRegressor, VotingClassifier\n",
    "\n",
    "from sklearn.metrics import mean_squared_error\n",
    "from sklearn.metrics import mean_absolute_error, max_error"
   ]
  },
  {
   "cell_type": "code",
   "execution_count": 3,
   "metadata": {},
   "outputs": [],
   "source": [
    " df = pd.read_csv('Train.csv')"
   ]
  },
  {
   "cell_type": "code",
   "execution_count": 4,
   "metadata": {},
   "outputs": [
    {
     "data": {
      "image/png": "[encoded data removed]",
      "text/plain": [
       "<Figure size 432x288 with 1 Axes>"
      ]
     },
     "metadata": {
      "needs_background": "light"
     },
     "output_type": "display_data"
    }
   ],
   "source": [
    "import matplotlib.pyplot as plt\n",
    "%matplotlib inline\n",
    "\n",
    "plt.hist(df['후반기ERA'])\n",
    "plt.xlabel('AVG')\n",
    "plt.title('Distribution of Wins')\n",
    "\n",
    "plt.show()"
   ]
  },
  {
   "cell_type": "code",
   "execution_count": 5,
   "metadata": {},
   "outputs": [
    {
     "data": {
      "text/plain": [
       "Index(['팀명', '승률', 'RA/G', '볼넷%', '삼진%', 'BABIP', 'LOB%', 'ERA', 'RA9-WAR',\n",
       "       'FIP', 'kFIP', 'WAR', '삼진/9', '볼넷/9', '홈런/9', '삼/볼', '피안타율', '피출루율',\n",
       "       '피장타율', '피OPS', 'WHIP', '후반기경기', '후반기경기당실점', '후반기ERA'],\n",
       "      dtype='object')"
      ]
     },
     "execution_count": 5,
     "metadata": {},
     "output_type": "execute_result"
    }
   ],
   "source": [
    "df.columns"
   ]
  },
  {
   "cell_type": "code",
   "execution_count": 6,
   "metadata": {},
   "outputs": [
    {
     "data": {
      "text/plain": [
       "승률         -0.256729\n",
       "RA/G        0.656746\n",
       "볼넷%        -0.014032\n",
       "삼진%         0.198604\n",
       "BABIP       0.602130\n",
       "LOB%       -0.418130\n",
       "ERA         0.672497\n",
       "RA9-WAR    -0.183949\n",
       "FIP         0.729020\n",
       "kFIP        0.708743\n",
       "WAR        -0.148369\n",
       "삼진/9        0.353976\n",
       "볼넷/9        0.096710\n",
       "홈런/9        0.762091\n",
       "삼/볼         0.138932\n",
       "피안타율        0.620982\n",
       "피출루율        0.525085\n",
       "피장타율        0.760941\n",
       "피OPS        0.728471\n",
       "WHIP        0.560599\n",
       "후반기경기       0.121441\n",
       "후반기경기당실점    0.982507\n",
       "후반기ERA      1.000000\n",
       "Name: 후반기ERA, dtype: float64"
      ]
     },
     "execution_count": 6,
     "metadata": {},
     "output_type": "execute_result"
    }
   ],
   "source": [
    "df.corr()['후반기ERA']"
   ]
  },
  {
   "cell_type": "code",
   "execution_count": 7,
   "metadata": {},
   "outputs": [],
   "source": [
    "del df['팀명']; "
   ]
  },
  {
   "cell_type": "code",
   "execution_count": 8,
   "metadata": {},
   "outputs": [],
   "source": [
    "x_data = df.values[:, 0:df.shape[1]-1]\n",
    "y_data= df.iloc[:,-1]"
   ]
  },
  {
   "cell_type": "code",
   "execution_count": 9,
   "metadata": {},
   "outputs": [
    {
     "data": {
      "text/plain": [
       "((60, 22), (60,), (16, 22), (16,))"
      ]
     },
     "execution_count": 9,
     "metadata": {},
     "output_type": "execute_result"
    }
   ],
   "source": [
    "from sklearn.preprocessing import StandardScaler\n",
    "\n",
    "from sklearn.preprocessing import MinMaxScaler\n",
    "scaler = MinMaxScaler()\n",
    "x_data = scaler.fit_transform(x_data)\n",
    "\n",
    "from sklearn.model_selection import train_test_split\n",
    "\n",
    "X_train, X_test, y_train, y_test = train_test_split(x_data, y_data, test_size=0.2, random_state=52)\n",
    "X_train.shape, y_train.shape, X_test.shape, y_test.shape"
   ]
  },
  {
   "cell_type": "code",
   "execution_count": 10,
   "metadata": {},
   "outputs": [
    {
     "name": "stdout",
     "output_type": "stream",
     "text": [
      "기울기: [ 0.0496141   4.05499451 -5.35120196 -0.5694614   3.19641082  2.42387197\n",
      "  2.13442512 -0.10594406  4.19368659 -3.6907497  -0.2284492  -1.13448134\n",
      "  8.3034758  -0.82967642 -0.46296073 -0.159278   -8.5668619  -7.78235949\n",
      " 12.28014754 -6.0902502  -0.07749471  3.74540143]\n",
      "절편: 1.756557343038084\n",
      "훈련 정확도:0.98\n",
      "테스트 정확도:0.97\n"
     ]
    }
   ],
   "source": [
    "from sklearn.linear_model import LinearRegression\n",
    "\n",
    "lr = LinearRegression().fit(X_train, y_train)\n",
    "print(\"기울기:\", lr.coef_)  # [0.39390555]\n",
    "print(\"절편:\", lr.intercept_)  # -0.03180434302675973\n",
    "print(\"훈련 정확도:{:.2f}\".format(lr.score(X_train, y_train)))\n",
    "print(\"테스트 정확도:{:.2f}\".format(lr.score(X_test, y_test)))"
   ]
  },
  {
   "cell_type": "code",
   "execution_count": 11,
   "metadata": {},
   "outputs": [
    {
     "name": "stdout",
     "output_type": "stream",
     "text": [
      "RMSE: 0.18008\n",
      "0.383508827347109\n"
     ]
    }
   ],
   "source": [
    "lr_pred = lr.predict(X_test)\n",
    "lr_rmse = np.sqrt(mean_squared_error(y_test, lr_pred))\n",
    "print(f'RMSE: {lr_rmse:.5f}')\n",
    "print(max_error(y_test, lr_pred))"
   ]
  },
  {
   "cell_type": "code",
   "execution_count": 12,
   "metadata": {},
   "outputs": [
    {
     "name": "stdout",
     "output_type": "stream",
     "text": [
      "교차 검증 점수: [0.92700385 0.88018755 0.97106611]\n"
     ]
    }
   ],
   "source": [
    "from sklearn.model_selection import KFold\n",
    "from sklearn.model_selection import cross_val_score\n",
    "scores = cross_val_score(lr, x_data, y_data)\n",
    "\n",
    "print(\"교차 검증 점수: {}\".format(scores))"
   ]
  },
  {
   "cell_type": "code",
   "execution_count": 16,
   "metadata": {},
   "outputs": [],
   "source": [
    "predict=pd.read_csv('Test.csv', encoding='cp949')"
   ]
  },
  {
   "cell_type": "code",
   "execution_count": 17,
   "metadata": {},
   "outputs": [
    {
     "data": {
      "text/html": [
       "<div>\n",
       "<style scoped>\n",
       "    .dataframe tbody tr th:only-of-type {\n",
       "        vertical-align: middle;\n",
       "    }\n",
       "\n",
       "    .dataframe tbody tr th {\n",
       "        vertical-align: top;\n",
       "    }\n",
       "\n",
       "    .dataframe thead th {\n",
       "        text-align: right;\n",
       "    }\n",
       "</style>\n",
       "<table border=\"1\" class=\"dataframe\">\n",
       "  <thead>\n",
       "    <tr style=\"text-align: right;\">\n",
       "      <th></th>\n",
       "      <th>팀명</th>\n",
       "      <th>승률</th>\n",
       "      <th>RA/G</th>\n",
       "      <th>볼넷%</th>\n",
       "      <th>삼진%</th>\n",
       "      <th>BABIP</th>\n",
       "      <th>LOB%</th>\n",
       "      <th>ERA</th>\n",
       "      <th>RA9-WAR</th>\n",
       "      <th>FIP</th>\n",
       "      <th>...</th>\n",
       "      <th>홈런/9</th>\n",
       "      <th>삼/볼</th>\n",
       "      <th>피안타율</th>\n",
       "      <th>피출루율</th>\n",
       "      <th>피장타율</th>\n",
       "      <th>피OPS</th>\n",
       "      <th>WHIP</th>\n",
       "      <th>후반기경기</th>\n",
       "      <th>후반기경기당실점</th>\n",
       "      <th>후반기ERA</th>\n",
       "    </tr>\n",
       "  </thead>\n",
       "  <tbody>\n",
       "    <tr>\n",
       "      <td>0</td>\n",
       "      <td>Hero</td>\n",
       "      <td>0.577</td>\n",
       "      <td>4.83</td>\n",
       "      <td>7.8</td>\n",
       "      <td>17.3</td>\n",
       "      <td>0.311</td>\n",
       "      <td>69.1</td>\n",
       "      <td>4.43</td>\n",
       "      <td>25.04</td>\n",
       "      <td>4.54</td>\n",
       "      <td>...</td>\n",
       "      <td>0.89</td>\n",
       "      <td>2.21</td>\n",
       "      <td>0.271</td>\n",
       "      <td>0.336</td>\n",
       "      <td>0.395</td>\n",
       "      <td>0.731</td>\n",
       "      <td>1.39</td>\n",
       "      <td>20</td>\n",
       "      <td>5.145807</td>\n",
       "      <td>NaN</td>\n",
       "    </tr>\n",
       "    <tr>\n",
       "      <td>1</td>\n",
       "      <td>KIA</td>\n",
       "      <td>0.530</td>\n",
       "      <td>5.21</td>\n",
       "      <td>9.3</td>\n",
       "      <td>19.0</td>\n",
       "      <td>0.331</td>\n",
       "      <td>66.7</td>\n",
       "      <td>4.85</td>\n",
       "      <td>19.16</td>\n",
       "      <td>4.44</td>\n",
       "      <td>...</td>\n",
       "      <td>0.80</td>\n",
       "      <td>2.04</td>\n",
       "      <td>0.278</td>\n",
       "      <td>0.351</td>\n",
       "      <td>0.413</td>\n",
       "      <td>0.764</td>\n",
       "      <td>1.48</td>\n",
       "      <td>29</td>\n",
       "      <td>5.309298</td>\n",
       "      <td>NaN</td>\n",
       "    </tr>\n",
       "    <tr>\n",
       "      <td>2</td>\n",
       "      <td>KT</td>\n",
       "      <td>0.569</td>\n",
       "      <td>4.93</td>\n",
       "      <td>9.2</td>\n",
       "      <td>14.8</td>\n",
       "      <td>0.302</td>\n",
       "      <td>69.5</td>\n",
       "      <td>4.62</td>\n",
       "      <td>23.54</td>\n",
       "      <td>4.87</td>\n",
       "      <td>...</td>\n",
       "      <td>0.88</td>\n",
       "      <td>1.61</td>\n",
       "      <td>0.271</td>\n",
       "      <td>0.344</td>\n",
       "      <td>0.393</td>\n",
       "      <td>0.737</td>\n",
       "      <td>1.45</td>\n",
       "      <td>27</td>\n",
       "      <td>4.712700</td>\n",
       "      <td>NaN</td>\n",
       "    </tr>\n",
       "    <tr>\n",
       "      <td>3</td>\n",
       "      <td>LG</td>\n",
       "      <td>0.560</td>\n",
       "      <td>4.91</td>\n",
       "      <td>8.5</td>\n",
       "      <td>18.2</td>\n",
       "      <td>0.314</td>\n",
       "      <td>69.6</td>\n",
       "      <td>4.53</td>\n",
       "      <td>25.64</td>\n",
       "      <td>4.58</td>\n",
       "      <td>...</td>\n",
       "      <td>0.89</td>\n",
       "      <td>2.15</td>\n",
       "      <td>0.270</td>\n",
       "      <td>0.341</td>\n",
       "      <td>0.403</td>\n",
       "      <td>0.744</td>\n",
       "      <td>1.42</td>\n",
       "      <td>25</td>\n",
       "      <td>4.992215</td>\n",
       "      <td>NaN</td>\n",
       "    </tr>\n",
       "    <tr>\n",
       "      <td>4</td>\n",
       "      <td>NC</td>\n",
       "      <td>0.628</td>\n",
       "      <td>4.89</td>\n",
       "      <td>9.5</td>\n",
       "      <td>18.5</td>\n",
       "      <td>0.296</td>\n",
       "      <td>71.1</td>\n",
       "      <td>4.58</td>\n",
       "      <td>25.43</td>\n",
       "      <td>4.97</td>\n",
       "      <td>...</td>\n",
       "      <td>1.09</td>\n",
       "      <td>1.96</td>\n",
       "      <td>0.258</td>\n",
       "      <td>0.338</td>\n",
       "      <td>0.400</td>\n",
       "      <td>0.737</td>\n",
       "      <td>1.40</td>\n",
       "      <td>28</td>\n",
       "      <td>5.178043</td>\n",
       "      <td>NaN</td>\n",
       "    </tr>\n",
       "    <tr>\n",
       "      <td>5</td>\n",
       "      <td>SK</td>\n",
       "      <td>0.336</td>\n",
       "      <td>6.01</td>\n",
       "      <td>11.6</td>\n",
       "      <td>17.1</td>\n",
       "      <td>0.318</td>\n",
       "      <td>65.8</td>\n",
       "      <td>5.69</td>\n",
       "      <td>10.42</td>\n",
       "      <td>5.41</td>\n",
       "      <td>...</td>\n",
       "      <td>1.11</td>\n",
       "      <td>1.47</td>\n",
       "      <td>0.279</td>\n",
       "      <td>0.371</td>\n",
       "      <td>0.427</td>\n",
       "      <td>0.798</td>\n",
       "      <td>1.62</td>\n",
       "      <td>24</td>\n",
       "      <td>4.581849</td>\n",
       "      <td>NaN</td>\n",
       "    </tr>\n",
       "    <tr>\n",
       "      <td>6</td>\n",
       "      <td>두산</td>\n",
       "      <td>0.539</td>\n",
       "      <td>5.02</td>\n",
       "      <td>8.6</td>\n",
       "      <td>17.6</td>\n",
       "      <td>0.328</td>\n",
       "      <td>69.1</td>\n",
       "      <td>4.59</td>\n",
       "      <td>22.52</td>\n",
       "      <td>4.42</td>\n",
       "      <td>...</td>\n",
       "      <td>0.80</td>\n",
       "      <td>2.05</td>\n",
       "      <td>0.281</td>\n",
       "      <td>0.349</td>\n",
       "      <td>0.413</td>\n",
       "      <td>0.762</td>\n",
       "      <td>1.49</td>\n",
       "      <td>25</td>\n",
       "      <td>5.166027</td>\n",
       "      <td>NaN</td>\n",
       "    </tr>\n",
       "    <tr>\n",
       "      <td>7</td>\n",
       "      <td>롯데</td>\n",
       "      <td>0.504</td>\n",
       "      <td>5.04</td>\n",
       "      <td>8.2</td>\n",
       "      <td>17.7</td>\n",
       "      <td>0.310</td>\n",
       "      <td>68.7</td>\n",
       "      <td>4.66</td>\n",
       "      <td>20.46</td>\n",
       "      <td>4.69</td>\n",
       "      <td>...</td>\n",
       "      <td>1.04</td>\n",
       "      <td>2.17</td>\n",
       "      <td>0.272</td>\n",
       "      <td>0.336</td>\n",
       "      <td>0.413</td>\n",
       "      <td>0.749</td>\n",
       "      <td>1.41</td>\n",
       "      <td>28</td>\n",
       "      <td>4.992411</td>\n",
       "      <td>NaN</td>\n",
       "    </tr>\n",
       "    <tr>\n",
       "      <td>8</td>\n",
       "      <td>삼성</td>\n",
       "      <td>0.448</td>\n",
       "      <td>5.38</td>\n",
       "      <td>9.6</td>\n",
       "      <td>16.5</td>\n",
       "      <td>0.308</td>\n",
       "      <td>67.4</td>\n",
       "      <td>4.99</td>\n",
       "      <td>19.97</td>\n",
       "      <td>5.07</td>\n",
       "      <td>...</td>\n",
       "      <td>1.04</td>\n",
       "      <td>1.71</td>\n",
       "      <td>0.274</td>\n",
       "      <td>0.351</td>\n",
       "      <td>0.418</td>\n",
       "      <td>0.769</td>\n",
       "      <td>1.49</td>\n",
       "      <td>26</td>\n",
       "      <td>4.955448</td>\n",
       "      <td>NaN</td>\n",
       "    </tr>\n",
       "    <tr>\n",
       "      <td>9</td>\n",
       "      <td>한화</td>\n",
       "      <td>0.310</td>\n",
       "      <td>5.70</td>\n",
       "      <td>10.4</td>\n",
       "      <td>18.2</td>\n",
       "      <td>0.327</td>\n",
       "      <td>67.9</td>\n",
       "      <td>5.22</td>\n",
       "      <td>13.07</td>\n",
       "      <td>5.14</td>\n",
       "      <td>...</td>\n",
       "      <td>1.13</td>\n",
       "      <td>1.75</td>\n",
       "      <td>0.283</td>\n",
       "      <td>0.366</td>\n",
       "      <td>0.438</td>\n",
       "      <td>0.804</td>\n",
       "      <td>1.58</td>\n",
       "      <td>26</td>\n",
       "      <td>4.604349</td>\n",
       "      <td>NaN</td>\n",
       "    </tr>\n",
       "  </tbody>\n",
       "</table>\n",
       "<p>10 rows × 24 columns</p>\n",
       "</div>"
      ],
      "text/plain": [
       "     팀명     승률  RA/G   볼넷%   삼진%  BABIP  LOB%   ERA  RA9-WAR   FIP  ...  홈런/9  \\\n",
       "0  Hero  0.577  4.83   7.8  17.3  0.311  69.1  4.43    25.04  4.54  ...  0.89   \n",
       "1   KIA  0.530  5.21   9.3  19.0  0.331  66.7  4.85    19.16  4.44  ...  0.80   \n",
       "2    KT  0.569  4.93   9.2  14.8  0.302  69.5  4.62    23.54  4.87  ...  0.88   \n",
       "3    LG  0.560  4.91   8.5  18.2  0.314  69.6  4.53    25.64  4.58  ...  0.89   \n",
       "4    NC  0.628  4.89   9.5  18.5  0.296  71.1  4.58    25.43  4.97  ...  1.09   \n",
       "5    SK  0.336  6.01  11.6  17.1  0.318  65.8  5.69    10.42  5.41  ...  1.11   \n",
       "6    두산  0.539  5.02   8.6  17.6  0.328  69.1  4.59    22.52  4.42  ...  0.80   \n",
       "7    롯데  0.504  5.04   8.2  17.7  0.310  68.7  4.66    20.46  4.69  ...  1.04   \n",
       "8    삼성  0.448  5.38   9.6  16.5  0.308  67.4  4.99    19.97  5.07  ...  1.04   \n",
       "9    한화  0.310  5.70  10.4  18.2  0.327  67.9  5.22    13.07  5.14  ...  1.13   \n",
       "\n",
       "    삼/볼   피안타율   피출루율   피장타율   피OPS  WHIP  후반기경기  후반기경기당실점  후반기ERA  \n",
       "0  2.21  0.271  0.336  0.395  0.731  1.39     20  5.145807     NaN  \n",
       "1  2.04  0.278  0.351  0.413  0.764  1.48     29  5.309298     NaN  \n",
       "2  1.61  0.271  0.344  0.393  0.737  1.45     27  4.712700     NaN  \n",
       "3  2.15  0.270  0.341  0.403  0.744  1.42     25  4.992215     NaN  \n",
       "4  1.96  0.258  0.338  0.400  0.737  1.40     28  5.178043     NaN  \n",
       "5  1.47  0.279  0.371  0.427  0.798  1.62     24  4.581849     NaN  \n",
       "6  2.05  0.281  0.349  0.413  0.762  1.49     25  5.166027     NaN  \n",
       "7  2.17  0.272  0.336  0.413  0.749  1.41     28  4.992411     NaN  \n",
       "8  1.71  0.274  0.351  0.418  0.769  1.49     26  4.955448     NaN  \n",
       "9  1.75  0.283  0.366  0.438  0.804  1.58     26  4.604349     NaN  \n",
       "\n",
       "[10 rows x 24 columns]"
      ]
     },
     "execution_count": 17,
     "metadata": {},
     "output_type": "execute_result"
    }
   ],
   "source": [
    "predict"
   ]
  },
  {
   "cell_type": "code",
   "execution_count": null,
   "metadata": {},
   "outputs": [],
   "source": []
  }
 ],
 "metadata": {
  "kernelspec": {
   "display_name": "Python 3",
   "language": "python",
   "name": "python3"
  },
  "language_info": {
   "codemirror_mode": {
    "name": "ipython",
    "version": 3
   },
   "file_extension": ".py",
   "mimetype": "text/x-python",
   "name": "python",
   "nbconvert_exporter": "python",
   "pygments_lexer": "ipython3",
   "version": "3.7.4"
  }
 },
 "nbformat": 4,
 "nbformat_minor": 4
}

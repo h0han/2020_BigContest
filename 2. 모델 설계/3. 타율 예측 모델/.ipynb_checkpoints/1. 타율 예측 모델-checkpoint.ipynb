{
 "cells": [
  {
   "cell_type": "markdown",
   "metadata": {},
   "source": [
    "후반기타율 구하는데 필요한 데이터셋은 kbreport에서 구함"
   ]
  },
  {
   "cell_type": "code",
   "execution_count": 1,
   "metadata": {},
   "outputs": [],
   "source": [
    "import warnings\n",
    "warnings.simplefilter(action='ignore', category=FutureWarning)\n",
    "warnings.filterwarnings(action='ignore')\n",
    "import pandas as pd\n",
    "import platform\n",
    "import matplotlib\n",
    "if platform.system() == 'Windows':\n",
    "    matplotlib.rc('font', family='Malgun Gothic')\n",
    "elif platform.system() == 'Darwin':\n",
    "    matplotlib.rc('font', family='AppleGothic')\n",
    "else:\n",
    "    matplotlib.rc('font', family='NanumGothic')\n",
    "    \n",
    "import tensorflow as tf  \n",
    "tf.compat.v1.logging.set_verbosity(tf.compat.v1.logging.ERROR)    \n",
    "import numpy as np"
   ]
  },
  {
   "cell_type": "code",
   "execution_count": 2,
   "metadata": {},
   "outputs": [],
   "source": [
    "from sklearn.model_selection import KFold\n",
    "from sklearn.model_selection import cross_val_score"
   ]
  },
  {
   "cell_type": "code",
   "execution_count": 3,
   "metadata": {},
   "outputs": [],
   "source": [
    "from sklearn.linear_model import LinearRegression\n",
    "from sklearn.tree import DecisionTreeRegressor\n",
    "from sklearn.svm import SVR\n",
    "\n",
    "from sklearn.ensemble import VotingRegressor, VotingClassifier\n",
    "\n",
    "from sklearn.metrics import mean_squared_error\n",
    "from sklearn.metrics import mean_absolute_error, max_error"
   ]
  },
  {
   "cell_type": "code",
   "execution_count": 4,
   "metadata": {},
   "outputs": [],
   "source": [
    " df = pd.read_csv('Train_Data_fromKBREPORT.csv')"
   ]
  },
  {
   "cell_type": "markdown",
   "metadata": {},
   "source": [
    "column지우는 기준은 선형 회귀에서 낮은 상관도를 보이는 것들 여러개를 지움."
   ]
  },
  {
   "cell_type": "code",
   "execution_count": 5,
   "metadata": {},
   "outputs": [],
   "source": [
    "del df['팀명']; del df['경기'];\n",
    "del df['순위'];del df['승률'];del df['도루'];  del df['볼넷%']; del df['삼진%'];del df['볼/삼'];del df['wSB'];del df['경기당볼넷'];del df['고4'];del df['희플'];del df['희타'];del df['병살'];del df['HBP'];del df['삼진'];del df['SPD'];del df['경기당단타'];del df['경기당2루타'];del df['경기당3루타']; del df['출루율']; del df['BABIP']; del df['홈런']; del df['R/G']; del df['ISO'];del df['경기당타점']; del df['타수/홈런'];del df['전반기경기당득점']"
   ]
  },
  {
   "cell_type": "code",
   "execution_count": 6,
   "metadata": {},
   "outputs": [
    {
     "data": {
      "image/png": "[encoded data removed]",
      "text/plain": [
       "<Figure size 432x288 with 1 Axes>"
      ]
     },
     "metadata": {
      "needs_background": "light"
     },
     "output_type": "display_data"
    }
   ],
   "source": [
    "import matplotlib.pyplot as plt\n",
    "%matplotlib inline\n",
    "\n",
    "plt.hist(df['후반기타율'])\n",
    "plt.xlabel('AVG')\n",
    "plt.title('Distribution of Wins')\n",
    "\n",
    "plt.show()"
   ]
  },
  {
   "cell_type": "code",
   "execution_count": 7,
   "metadata": {},
   "outputs": [
    {
     "data": {
      "text/plain": [
       "Index(['타율', '장타율', 'OPS', 'RC', 'RC/27', 'wRC', 'wOBA', 'wRAA', '경기당안타',\n",
       "       '후반기경기당득점', '후반기타율'],\n",
       "      dtype='object')"
      ]
     },
     "execution_count": 7,
     "metadata": {},
     "output_type": "execute_result"
    }
   ],
   "source": [
    "df.columns"
   ]
  },
  {
   "cell_type": "code",
   "execution_count": 8,
   "metadata": {},
   "outputs": [
    {
     "data": {
      "text/plain": [
       "타율          0.554140\n",
       "장타율         0.584891\n",
       "OPS         0.581080\n",
       "RC          0.626143\n",
       "RC/27       0.554124\n",
       "wRC         0.633753\n",
       "wOBA        0.566468\n",
       "wRAA        0.561457\n",
       "경기당안타       0.570015\n",
       "후반기경기당득점    0.844865\n",
       "후반기타율       1.000000\n",
       "Name: 후반기타율, dtype: float64"
      ]
     },
     "execution_count": 8,
     "metadata": {},
     "output_type": "execute_result"
    }
   ],
   "source": [
    "df.corr()['후반기타율']"
   ]
  },
  {
   "cell_type": "code",
   "execution_count": 9,
   "metadata": {},
   "outputs": [],
   "source": [
    "x_data = df.values[:, 0:df.shape[1]-1]\n",
    "y_data= df.iloc[:,-1]"
   ]
  },
  {
   "cell_type": "code",
   "execution_count": 10,
   "metadata": {},
   "outputs": [
    {
     "data": {
      "text/plain": [
       "((60, 10), (60,), (16, 10), (16,))"
      ]
     },
     "execution_count": 10,
     "metadata": {},
     "output_type": "execute_result"
    }
   ],
   "source": [
    "from sklearn.preprocessing import StandardScaler\n",
    "\n",
    "from sklearn.preprocessing import MinMaxScaler\n",
    "scaler = MinMaxScaler()\n",
    "x_data = scaler.fit_transform(x_data)\n",
    "\n",
    "from sklearn.model_selection import train_test_split\n",
    "\n",
    "X_train, X_test, y_train, y_test = train_test_split(x_data, y_data, test_size=0.2, random_state=42)\n",
    "X_train.shape, y_train.shape, X_test.shape, y_test.shape"
   ]
  },
  {
   "cell_type": "code",
   "execution_count": 11,
   "metadata": {},
   "outputs": [],
   "source": [
    "reg_dt = DecisionTreeRegressor()\n",
    "reg_lr = LinearRegression(normalize=True)\n",
    "reg_svm = SVR()"
   ]
  },
  {
   "cell_type": "code",
   "execution_count": 12,
   "metadata": {},
   "outputs": [],
   "source": [
    "estimators = [('dt', reg_dt), ('lr', reg_lr), ('svm', reg_svm)]"
   ]
  },
  {
   "cell_type": "code",
   "execution_count": 13,
   "metadata": {},
   "outputs": [
    {
     "name": "stdout",
     "output_type": "stream",
     "text": [
      "RMSE: 0.01451\n",
      "0.0348268151608509\n"
     ]
    }
   ],
   "source": [
    "reg_rating = VotingRegressor(estimators)\n",
    "reg_rating.fit(X_train, y_train)\n",
    "\n",
    "reg_pred = reg_rating.predict(X_test)\n",
    "reg_rmse = np.sqrt(mean_squared_error(y_test, reg_pred))\n",
    "print(f'RMSE: {reg_rmse:.5f}')\n",
    "print(max_error(y_test, reg_pred))"
   ]
  },
  {
   "cell_type": "markdown",
   "metadata": {},
   "source": [
    "위에까지 선형회귀를 돌려봤는데 성능이 그리 썩 좋지 않음"
   ]
  },
  {
   "cell_type": "code",
   "execution_count": 14,
   "metadata": {},
   "outputs": [],
   "source": [
    "from sklearn.ensemble import BaggingRegressor \n",
    "mini=999\n",
    "\n",
    "#reg_dt = DecisionTreeRegressor(max_depth=5, min_samples_split=10, min_samples_leaf=5)\n",
    "reg_dt = DecisionTreeRegressor(max_depth=5, min_samples_split=10, min_samples_leaf=5)"
   ]
  },
  {
   "cell_type": "code",
   "execution_count": 15,
   "metadata": {},
   "outputs": [
    {
     "name": "stdout",
     "output_type": "stream",
     "text": [
      "0.012112373533503081\n"
     ]
    }
   ],
   "source": [
    "reg_bag = BaggingRegressor(\n",
    "  base_estimator = reg_lr,\n",
    "  n_estimators=50,\n",
    "  max_features=X_train.shape[1], \n",
    "  max_samples=0.8, \n",
    "  bootstrap=True,\n",
    "  random_state=777,\n",
    "  oob_score=True)\n",
    "reg_bag.fit(X_train, y_train)\n",
    "\n",
    "bag_pred = reg_bag.predict(X_test)\n",
    "reg_bag_rmse = np.sqrt(mean_squared_error(y_test, bag_pred))\n",
    "print(reg_bag_rmse)"
   ]
  },
  {
   "cell_type": "markdown",
   "metadata": {},
   "source": [
    "baggingregressor라는 모델"
   ]
  },
  {
   "cell_type": "code",
   "execution_count": 16,
   "metadata": {},
   "outputs": [
    {
     "name": "stdout",
     "output_type": "stream",
     "text": [
      "0.01502270246271102\n"
     ]
    }
   ],
   "source": [
    "from sklearn.ensemble import AdaBoostRegressor\n",
    "\n",
    "# 회귀모형\n",
    "reg_lm = LinearRegression(normalize=True)\n",
    "\n",
    "# 회귀 AdaBoost 알고리즘\n",
    "reg_ada = AdaBoostRegressor(base_estimator=reg_dt, \n",
    "                            n_estimators=100, \n",
    "                            learning_rate=0.01,\n",
    "                            random_state=777)\n",
    "reg_ada.fit(X_train, y_train)\n",
    "\n",
    "# 성능\n",
    "ada_pred = reg_ada.predict(X_test)\n",
    "reg_ada_rmse = np.sqrt(mean_squared_error(y_test, ada_pred))\n",
    "print(reg_ada_rmse)\n",
    "#print(np.sqrt(mean_squared_error(y_test, ada_pred)))\n",
    "#ada_pred=pd.DataFrame(ada_pred)\n",
    "#print(ada_pred.shape,y_test.shape)\n",
    "#prex=pd.concat([ada_pred.reset_index(),y_test.reset_index(drop=True)],axis=1)\n",
    "#prex"
   ]
  },
  {
   "cell_type": "markdown",
   "metadata": {},
   "source": [
    "adabooster라는 모델"
   ]
  },
  {
   "cell_type": "code",
   "execution_count": 17,
   "metadata": {},
   "outputs": [
    {
     "name": "stdout",
     "output_type": "stream",
     "text": [
      "Requirement already satisfied: lightgbm in c:\\users\\nakhe\\anaconda3\\lib\\site-packages (3.0.0)\n",
      "Requirement already satisfied: numpy in c:\\users\\nakhe\\anaconda3\\lib\\site-packages (from lightgbm) (1.16.5)\n",
      "Requirement already satisfied: scipy in c:\\users\\nakhe\\anaconda3\\lib\\site-packages (from lightgbm) (1.3.1)\n",
      "Requirement already satisfied: scikit-learn!=0.22.0 in c:\\users\\nakhe\\anaconda3\\lib\\site-packages (from lightgbm) (0.21.3)\n",
      "Requirement already satisfied: joblib>=0.11 in c:\\users\\nakhe\\anaconda3\\lib\\site-packages (from scikit-learn!=0.22.0->lightgbm) (0.13.2)\n"
     ]
    }
   ],
   "source": [
    "! pip install lightgbm"
   ]
  },
  {
   "cell_type": "code",
   "execution_count": 18,
   "metadata": {},
   "outputs": [
    {
     "name": "stdout",
     "output_type": "stream",
     "text": [
      "RMSE(Ensemble - Averaging): 0.01451      \n",
      "RMSE(Ensemble - Bagging)  : 0.0121123735      \n",
      "RMSE(Ensemble - AdaBoost) : 0.01502      \n",
      "RMSE(Ensemble - GBM)      : 0.01325      \n",
      "RMSE(Ensemble - Light GBM): 0.01737\n",
      "\n",
      "MAE(Ensemble - Averaging): 0.01123      \n",
      "MAE(Ensemble - Bagging)  : 0.0101723075      \n",
      "MAE(Ensemble - AdaBoost) : 0.01310      \n",
      "MAE(Ensemble - GBM)      : 0.01100      \n",
      "MAE(Ensemble - Light GBM): 0.01284\n"
     ]
    }
   ],
   "source": [
    "import lightgbm as lgb\n",
    "from sklearn.ensemble import GradientBoostingRegressor\n",
    "\n",
    "reg_gbm = GradientBoostingRegressor(\n",
    "    n_estimators=100,\n",
    "    learning_rate=0.1,\n",
    "    max_depth=3,\n",
    "#     min_samples_split=10,\n",
    "#     min_samples_leaf=10,\n",
    "#     max_features=X_train.shape[1]\n",
    ")\n",
    "reg_gbm.fit(X_train, y_train)\n",
    "\n",
    "# 성능\n",
    "gbm_pred = reg_gbm.predict(X_test)\n",
    "\n",
    "# 예측모형 성능 비교\n",
    "reg_gbm_rmse = np.sqrt(mean_squared_error(y_test, gbm_pred))\n",
    "\n",
    "reg_lgb = lgb.LGBMRegressor(\n",
    "    n_estimators=100,\n",
    "    learning_rate=0.01,\n",
    "    max_depth=-1,\n",
    "    seed=500\n",
    ")\n",
    "reg_lgb.fit(X_train, y_train)\n",
    "\n",
    "# 성능\n",
    "lgb_pred = reg_lgb.predict(X_test)\n",
    "\n",
    "# 예측모형 성능 비교\n",
    "reg_lgb_rmse = np.sqrt(mean_squared_error(y_test, lgb_pred))\n",
    "print(f'RMSE(Ensemble - Averaging): {reg_rmse:.5f}\\\n",
    "      \\nRMSE(Ensemble - Bagging)  : {reg_bag_rmse:.10f}\\\n",
    "      \\nRMSE(Ensemble - AdaBoost) : {reg_ada_rmse:.5f}\\\n",
    "      \\nRMSE(Ensemble - GBM)      : {reg_gbm_rmse:.5f}\\\n",
    "      \\nRMSE(Ensemble - Light GBM): {reg_lgb_rmse:.5f}')\n",
    "\n",
    "print(f'\\nMAE(Ensemble - Averaging): {mean_absolute_error(y_test,reg_pred):.5f}\\\n",
    "      \\nMAE(Ensemble - Bagging)  : {mean_absolute_error(y_test,bag_pred):.10f}\\\n",
    "      \\nMAE(Ensemble - AdaBoost) : {mean_absolute_error(y_test,ada_pred):.5f}\\\n",
    "      \\nMAE(Ensemble - GBM)      : {mean_absolute_error(y_test,gbm_pred):.5f}\\\n",
    "      \\nMAE(Ensemble - Light GBM): {mean_absolute_error(y_test,lgb_pred):.5f}')"
   ]
  },
  {
   "cell_type": "markdown",
   "metadata": {},
   "source": [
    "여러 모델을 통해 학습한 결과 평균적으로 baggingregressor랑 GradientBoostingRegressor, VotingRegressor라는 모델이 mae랑 rmse가 낮음"
   ]
  },
  {
   "cell_type": "code",
   "execution_count": 19,
   "metadata": {},
   "outputs": [
    {
     "name": "stdout",
     "output_type": "stream",
     "text": [
      "교차 검증 점수: [0.47464952 0.30549239 0.38015456]\n"
     ]
    }
   ],
   "source": [
    "from sklearn.model_selection import KFold\n",
    "from sklearn.model_selection import cross_val_score\n",
    "scores = cross_val_score(reg_gbm, x_data, y_data)\n",
    "\n",
    "print(\"교차 검증 점수: {}\".format(scores))"
   ]
  },
  {
   "cell_type": "code",
   "execution_count": 20,
   "metadata": {},
   "outputs": [],
   "source": [
    "final_pred1=[]\n",
    "for i in range(y_test.shape[0]):\n",
    "    final_pred1.append((bag_pred[i]+reg_pred[i]+gbm_pred[i])/3)"
   ]
  },
  {
   "cell_type": "markdown",
   "metadata": {},
   "source": [
    "위 3개 모델의 예측값들의 평균을 예측값으로 잡음"
   ]
  },
  {
   "cell_type": "code",
   "execution_count": 21,
   "metadata": {},
   "outputs": [
    {
     "name": "stdout",
     "output_type": "stream",
     "text": [
      "0.012471415942551795\n",
      "0.010209118084416132\n"
     ]
    }
   ],
   "source": [
    "print(np.sqrt(mean_squared_error(y_test, final_pred1)))\n",
    "print(mean_absolute_error(y_test,final_pred1))"
   ]
  },
  {
   "cell_type": "code",
   "execution_count": 22,
   "metadata": {},
   "outputs": [
    {
     "data": {
      "text/plain": [
       "[0.24686912912354275,\n",
       " 0.2833901067387595,\n",
       " 0.2615856184939741,\n",
       " 0.23857500772479953,\n",
       " 0.2945993887891279,\n",
       " 0.2875869759942394,\n",
       " 0.28331069891398486,\n",
       " 0.2864352424881716,\n",
       " 0.3008406134085684,\n",
       " 0.26428906675400426,\n",
       " 0.24941023036056723,\n",
       " 0.2640667422173348,\n",
       " 0.29464601382968864,\n",
       " 0.24562306814614632,\n",
       " 0.285424828630581,\n",
       " 0.2842273223816946]"
      ]
     },
     "execution_count": 22,
     "metadata": {},
     "output_type": "execute_result"
    }
   ],
   "source": [
    "final_pred1 #출력"
   ]
  }
 ],
 "metadata": {
  "kernelspec": {
   "display_name": "Python 3",
   "language": "python",
   "name": "python3"
  },
  "language_info": {
   "codemirror_mode": {
    "name": "ipython",
    "version": 3
   },
   "file_extension": ".py",
   "mimetype": "text/x-python",
   "name": "python",
   "nbconvert_exporter": "python",
   "pygments_lexer": "ipython3",
   "version": "3.7.4"
  }
 },
 "nbformat": 4,
 "nbformat_minor": 4
}

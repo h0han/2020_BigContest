{
 "cells": [
  {
   "cell_type": "markdown",
   "metadata": {},
   "source": [
    "원본데이터는 kbreport에서 가져옴.<br>\n",
    "선형회귀를 이용한 방어율 계산"
   ]
  },
  {
   "cell_type": "code",
   "execution_count": 1,
   "metadata": {},
   "outputs": [],
   "source": [
    "import warnings\n",
    "warnings.simplefilter(action='ignore', category=FutureWarning)\n",
    "warnings.filterwarnings(action='ignore')\n",
    "import pandas as pd\n",
    "import platform\n",
    "import matplotlib\n",
    "if platform.system() == 'Windows':\n",
    "    matplotlib.rc('font', family='Malgun Gothic')\n",
    "elif platform.system() == 'Darwin':\n",
    "    matplotlib.rc('font', family='AppleGothic')\n",
    "else:\n",
    "    matplotlib.rc('font', family='NanumGothic')\n",
    "    \n",
    "import tensorflow as tf  \n",
    "tf.compat.v1.logging.set_verbosity(tf.compat.v1.logging.ERROR)    \n",
    "import numpy as np"
   ]
  },
  {
   "cell_type": "code",
   "execution_count": 2,
   "metadata": {},
   "outputs": [],
   "source": [
    "from sklearn.linear_model import LinearRegression\n",
    "from sklearn.tree import DecisionTreeRegressor\n",
    "from sklearn.svm import SVR\n",
    "from sklearn.ensemble import VotingRegressor, VotingClassifier\n",
    "from sklearn.metrics import mean_squared_error\n",
    "from sklearn.metrics import mean_absolute_error, max_error"
   ]
  },
  {
   "cell_type": "code",
   "execution_count": 4,
   "metadata": {},
   "outputs": [],
   "source": [
    " df = pd.read_csv('Train_Data_fromKBREPORT.csv', encoding='utf-8')"
   ]
  },
  {
   "cell_type": "code",
   "execution_count": 5,
   "metadata": {},
   "outputs": [
    {
     "data": {
      "image/png": "[encoded data removed]",
      "text/plain": [
       "<Figure size 432x288 with 1 Axes>"
      ]
     },
     "metadata": {
      "needs_background": "light"
     },
     "output_type": "display_data"
    }
   ],
   "source": [
    "import matplotlib.pyplot as plt\n",
    "%matplotlib inline\n",
    "\n",
    "plt.hist(df['후반기ERA'])\n",
    "plt.xlabel('AVG')\n",
    "plt.title('Distribution of Wins')\n",
    "\n",
    "plt.show()"
   ]
  },
  {
   "cell_type": "code",
   "execution_count": 6,
   "metadata": {},
   "outputs": [
    {
     "data": {
      "text/plain": [
       "Index(['팀명', '승률', 'RA/G', '볼넷%', '삼진%', 'BABIP', 'LOB%', 'ERA', 'RA9-WAR',\n",
       "       'FIP', 'kFIP', 'WAR', '삼진/9', '볼넷/9', '홈런/9', '삼/볼', '피안타율', '피출루율',\n",
       "       '피장타율', '피OPS', 'WHIP', '후반기경기', '후반기경기당실점', '후반기ERA'],\n",
       "      dtype='object')"
      ]
     },
     "execution_count": 6,
     "metadata": {},
     "output_type": "execute_result"
    }
   ],
   "source": [
    "df.columns"
   ]
  },
  {
   "cell_type": "code",
   "execution_count": 7,
   "metadata": {},
   "outputs": [
    {
     "data": {
      "text/plain": [
       "승률         -0.251871\n",
       "RA/G        0.645011\n",
       "볼넷%        -0.044376\n",
       "삼진%         0.212321\n",
       "BABIP       0.551913\n",
       "LOB%       -0.420016\n",
       "ERA         0.664649\n",
       "RA9-WAR    -0.173258\n",
       "FIP         0.726231\n",
       "kFIP        0.706186\n",
       "WAR        -0.140244\n",
       "삼진/9        0.358319\n",
       "볼넷/9        0.064419\n",
       "홈런/9        0.770062\n",
       "삼/볼         0.165254\n",
       "피안타율        0.581856\n",
       "피출루율        0.482744\n",
       "피장타율        0.745267\n",
       "피OPS        0.703082\n",
       "WHIP        0.517744\n",
       "후반기경기       0.121441\n",
       "후반기경기당실점    0.989581\n",
       "후반기ERA      1.000000\n",
       "Name: 후반기ERA, dtype: float64"
      ]
     },
     "execution_count": 7,
     "metadata": {},
     "output_type": "execute_result"
    }
   ],
   "source": [
    "df.corr()['후반기ERA']"
   ]
  },
  {
   "cell_type": "code",
   "execution_count": 8,
   "metadata": {},
   "outputs": [],
   "source": [
    "del df['팀명']; "
   ]
  },
  {
   "cell_type": "code",
   "execution_count": 9,
   "metadata": {},
   "outputs": [],
   "source": [
    "x_data = df.values[:, 0:df.shape[1]-1]\n",
    "y_data= df.iloc[:,-1]"
   ]
  },
  {
   "cell_type": "code",
   "execution_count": 10,
   "metadata": {},
   "outputs": [
    {
     "data": {
      "text/plain": [
       "((60, 22), (60,), (16, 22), (16,))"
      ]
     },
     "execution_count": 10,
     "metadata": {},
     "output_type": "execute_result"
    }
   ],
   "source": [
    "from sklearn.preprocessing import StandardScaler\n",
    "\n",
    "from sklearn.preprocessing import MinMaxScaler\n",
    "scaler = MinMaxScaler()\n",
    "x_data = scaler.fit_transform(x_data)\n",
    "\n",
    "from sklearn.model_selection import train_test_split\n",
    "\n",
    "X_train, X_test, y_train, y_test = train_test_split(x_data, y_data, test_size=0.2, random_state=52)\n",
    "X_train.shape, y_train.shape, X_test.shape, y_test.shape"
   ]
  },
  {
   "cell_type": "code",
   "execution_count": 11,
   "metadata": {},
   "outputs": [
    {
     "name": "stdout",
     "output_type": "stream",
     "text": [
      "기울기: [-0.30285143  4.15328143 -4.78341995  1.07300368  3.36593177  2.31773988\n",
      "  0.90099787 -0.17347231  3.46712786 -2.01127691 -0.06201368 -2.41659662\n",
      "  6.87878652 -1.03700042 -0.79147571 -1.17916561 -4.30482559 -0.67302642\n",
      "  1.69229969 -4.868486   -0.02274122  3.71816035]\n",
      "절편: 2.0090463423539475\n",
      "훈련 정확도:0.99\n",
      "테스트 정확도:0.98\n"
     ]
    }
   ],
   "source": [
    "from sklearn.linear_model import LinearRegression\n",
    "\n",
    "lr = LinearRegression().fit(X_train, y_train)\n",
    "print(\"기울기:\", lr.coef_)  # [0.39390555]\n",
    "print(\"절편:\", lr.intercept_)  # -0.03180434302675973\n",
    "print(\"훈련 정확도:{:.2f}\".format(lr.score(X_train, y_train)))\n",
    "print(\"테스트 정확도:{:.2f}\".format(lr.score(X_test, y_test)))"
   ]
  },
  {
   "cell_type": "code",
   "execution_count": 12,
   "metadata": {},
   "outputs": [
    {
     "name": "stdout",
     "output_type": "stream",
     "text": [
      "RMSE: 0.14292\n",
      "0.2510727882354642\n"
     ]
    }
   ],
   "source": [
    "lr_pred = lr.predict(X_test)\n",
    "lr_rmse = np.sqrt(mean_squared_error(y_test, lr_pred))\n",
    "print(f'RMSE: {lr_rmse:.5f}')\n",
    "print(max_error(y_test, lr_pred))"
   ]
  },
  {
   "cell_type": "code",
   "execution_count": 13,
   "metadata": {},
   "outputs": [
    {
     "name": "stdout",
     "output_type": "stream",
     "text": [
      "교차 검증 점수: [0.96885149 0.93066651 0.97659381]\n"
     ]
    }
   ],
   "source": [
    "from sklearn.model_selection import KFold\n",
    "from sklearn.model_selection import cross_val_score\n",
    "scores = cross_val_score(lr, x_data, y_data)\n",
    "\n",
    "print(\"교차 검증 점수: {}\".format(scores))"
   ]
  },
  {
   "cell_type": "code",
   "execution_count": 14,
   "metadata": {},
   "outputs": [
    {
     "data": {
      "text/plain": [
       "array([4.22120087, 3.35695411, 6.28393304, 4.09894286, 5.53872168,\n",
       "       2.92235317, 5.58397946, 5.19855631, 3.29892721, 4.75831793,\n",
       "       4.70996623, 4.92361025, 3.75751424, 5.74307498, 5.86448847,\n",
       "       2.6731677 ])"
      ]
     },
     "execution_count": 14,
     "metadata": {},
     "output_type": "execute_result"
    }
   ],
   "source": [
    "lr_pred"
   ]
  }
 ],
 "metadata": {
  "kernelspec": {
   "display_name": "Python 3",
   "language": "python",
   "name": "python3"
  },
  "language_info": {
   "codemirror_mode": {
    "name": "ipython",
    "version": 3
   },
   "file_extension": ".py",
   "mimetype": "text/x-python",
   "name": "python",
   "nbconvert_exporter": "python",
   "pygments_lexer": "ipython3",
   "version": "3.7.4"
  }
 },
 "nbformat": 4,
 "nbformat_minor": 4
}

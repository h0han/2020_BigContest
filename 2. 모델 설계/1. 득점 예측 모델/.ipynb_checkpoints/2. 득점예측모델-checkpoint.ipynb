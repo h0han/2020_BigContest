{
 "cells": [
  {
   "cell_type": "code",
   "execution_count": 1,
   "metadata": {},
   "outputs": [],
   "source": [
    "import warnings\n",
    "warnings.simplefilter(action='ignore', category=FutureWarning)\n",
    "warnings.filterwarnings(action='ignore')\n",
    "import pandas as pd\n",
    "import platform\n",
    "import matplotlib\n",
    "import matplotlib.pyplot as plt\n",
    "if platform.system() == 'Windows':\n",
    "    matplotlib.rc('font', family='Malgun Gothic')\n",
    "elif platform.system() == 'Darwin':\n",
    "    matplotlib.rc('font', family='AppleGothic')\n",
    "else:\n",
    "    matplotlib.rc('font', family='NanumGothic')\n",
    "    \n",
    "# tensorflow warning off\n",
    "import tensorflow as tf\n",
    "tf.compat.v1.logging.set_verbosity(tf.compat.v1.logging.ERROR)    "
   ]
  },
  {
   "cell_type": "code",
   "execution_count": 2,
   "metadata": {},
   "outputs": [],
   "source": [
    "import tensorflow as tf\n",
    "import tensorflow.keras.backend as K\n",
    "\n",
    "from tensorflow.keras.datasets import mnist\n",
    "from tensorflow.keras.layers import Input, Dense, Flatten, Activation\n",
    "from tensorflow.keras.models import Model\n",
    "\n",
    "from tensorflow.keras.utils import get_custom_objects\n",
    "\n",
    "class Mish(Activation):\n",
    "    def __init__(self, activation, **kwargs):\n",
    "        super(Mish, self).__init__(activation, **kwargs)\n",
    "        self.__name__ = 'Mish'\n",
    "\n",
    "def mish(x):\n",
    "    return x * K.tanh(K.softplus(x))\n",
    "\n",
    "get_custom_objects().update({'mish': Mish(mish)})"
   ]
  },
  {
   "cell_type": "markdown",
   "metadata": {},
   "source": [
    "# 묶어서"
   ]
  },
  {
   "cell_type": "markdown",
   "metadata": {},
   "source": [
    "input_data_2.xlsx에서, 누적데이터의 의미가 사라지는 경기 한 두번만 한 데이터는 삭제하여 input_data_3.xlsx 생성함."
   ]
  },
  {
   "cell_type": "code",
   "execution_count": 3,
   "metadata": {},
   "outputs": [],
   "source": [
    "df_total = pd.read_excel('input_data_3.xlsx')"
   ]
  },
  {
   "cell_type": "code",
   "execution_count": 4,
   "metadata": {},
   "outputs": [
    {
     "data": {
      "text/plain": [
       "year       -0.260338\n",
       "경기수        -0.051461\n",
       "누적경기수      -0.028567\n",
       "피장타율        0.019916\n",
       "방어율         0.041487\n",
       "삼진/볼넷      -0.002584\n",
       "피출루율        0.064685\n",
       "피OPS        0.036986\n",
       "9이닝당 삼진수   -0.041129\n",
       "9이닝당 볼넷수    0.044398\n",
       "잔루처리율      -0.047577\n",
       "해당경기 실점     0.762928\n",
       "cOBP        0.366851\n",
       "cSLG        0.438801\n",
       "cOPS        0.433589\n",
       "cBABIP      0.273871\n",
       "KK/BB      -0.147787\n",
       "wOBA        0.436141\n",
       "WLD         0.161506\n",
       "PARK        0.111454\n",
       "BPF         0.180707\n",
       "PPF         0.151780\n",
       "피장타율_       0.162948\n",
       "방어율_        0.164221\n",
       "삼진/볼넷_     -0.075382\n",
       "피출루율_       0.094825\n",
       "피OPS_       0.147830\n",
       "9이닝당삼진수_    0.011909\n",
       "9이닝당볼넷수_    0.066101\n",
       "잔루처리율_     -0.051008\n",
       "RUN         1.000000\n",
       "Name: RUN, dtype: float64"
      ]
     },
     "execution_count": 4,
     "metadata": {},
     "output_type": "execute_result"
    }
   ],
   "source": [
    "df_total.corr()['RUN']"
   ]
  },
  {
   "cell_type": "code",
   "execution_count": 5,
   "metadata": {},
   "outputs": [],
   "source": [
    "del df_total['9이닝당 삼진수'];del df_total['9이닝당 볼넷수'];del df_total['9이닝당삼진수_'];del df_total['9이닝당볼넷수_']; #삭제 판단"
   ]
  },
  {
   "cell_type": "code",
   "execution_count": 6,
   "metadata": {},
   "outputs": [],
   "source": [
    "df_total.dropna(inplace = True)"
   ]
  },
  {
   "cell_type": "code",
   "execution_count": 7,
   "metadata": {},
   "outputs": [],
   "source": [
    "from sklearn.model_selection import train_test_split"
   ]
  },
  {
   "cell_type": "code",
   "execution_count": 8,
   "metadata": {},
   "outputs": [],
   "source": [
    "train_set, test_set=train_test_split(df_total,test_size=0.2,random_state=666)"
   ]
  },
  {
   "cell_type": "code",
   "execution_count": 9,
   "metadata": {
    "scrolled": true
   },
   "outputs": [
    {
     "name": "stdout",
     "output_type": "stream",
     "text": [
      "(124, 29) (31, 29)\n"
     ]
    }
   ],
   "source": [
    "print(train_set.shape, test_set.shape)"
   ]
  },
  {
   "cell_type": "code",
   "execution_count": 10,
   "metadata": {},
   "outputs": [],
   "source": [
    "import numpy as np"
   ]
  },
  {
   "cell_type": "code",
   "execution_count": 11,
   "metadata": {},
   "outputs": [],
   "source": [
    "from sklearn.preprocessing import StandardScaler\n",
    "from sklearn.preprocessing import MinMaxScaler\n",
    "scaler = MinMaxScaler()"
   ]
  },
  {
   "cell_type": "code",
   "execution_count": 12,
   "metadata": {
    "scrolled": false
   },
   "outputs": [
    {
     "data": {
      "text/html": [
       "<div>\n",
       "<style scoped>\n",
       "    .dataframe tbody tr th:only-of-type {\n",
       "        vertical-align: middle;\n",
       "    }\n",
       "\n",
       "    .dataframe tbody tr th {\n",
       "        vertical-align: top;\n",
       "    }\n",
       "\n",
       "    .dataframe thead th {\n",
       "        text-align: right;\n",
       "    }\n",
       "</style>\n",
       "<table border=\"1\" class=\"dataframe\">\n",
       "  <thead>\n",
       "    <tr style=\"text-align: right;\">\n",
       "      <th></th>\n",
       "      <th>WLD</th>\n",
       "      <th>PARK</th>\n",
       "      <th>BPF</th>\n",
       "      <th>PPF</th>\n",
       "    </tr>\n",
       "  </thead>\n",
       "  <tbody>\n",
       "    <tr>\n",
       "      <td>94</td>\n",
       "      <td>0.400000</td>\n",
       "      <td>1002.500000</td>\n",
       "      <td>0.872587</td>\n",
       "      <td>0.878518</td>\n",
       "    </tr>\n",
       "    <tr>\n",
       "      <td>179</td>\n",
       "      <td>0.237500</td>\n",
       "      <td>1031.750000</td>\n",
       "      <td>0.871067</td>\n",
       "      <td>0.874504</td>\n",
       "    </tr>\n",
       "    <tr>\n",
       "      <td>0</td>\n",
       "      <td>0.566667</td>\n",
       "      <td>1000.000000</td>\n",
       "      <td>0.858404</td>\n",
       "      <td>0.879156</td>\n",
       "    </tr>\n",
       "    <tr>\n",
       "      <td>105</td>\n",
       "      <td>0.475000</td>\n",
       "      <td>1083.000000</td>\n",
       "      <td>0.883018</td>\n",
       "      <td>0.893453</td>\n",
       "    </tr>\n",
       "    <tr>\n",
       "      <td>87</td>\n",
       "      <td>0.666667</td>\n",
       "      <td>938.000000</td>\n",
       "      <td>0.831685</td>\n",
       "      <td>0.798610</td>\n",
       "    </tr>\n",
       "    <tr>\n",
       "      <td>...</td>\n",
       "      <td>...</td>\n",
       "      <td>...</td>\n",
       "      <td>...</td>\n",
       "      <td>...</td>\n",
       "    </tr>\n",
       "    <tr>\n",
       "      <td>73</td>\n",
       "      <td>0.350000</td>\n",
       "      <td>964.000000</td>\n",
       "      <td>0.871238</td>\n",
       "      <td>0.869567</td>\n",
       "    </tr>\n",
       "    <tr>\n",
       "      <td>131</td>\n",
       "      <td>0.380000</td>\n",
       "      <td>993.600000</td>\n",
       "      <td>0.873733</td>\n",
       "      <td>0.876009</td>\n",
       "    </tr>\n",
       "    <tr>\n",
       "      <td>100</td>\n",
       "      <td>0.520000</td>\n",
       "      <td>1007.800000</td>\n",
       "      <td>0.854462</td>\n",
       "      <td>0.856262</td>\n",
       "    </tr>\n",
       "    <tr>\n",
       "      <td>89</td>\n",
       "      <td>0.650000</td>\n",
       "      <td>1028.500000</td>\n",
       "      <td>0.892555</td>\n",
       "      <td>0.896712</td>\n",
       "    </tr>\n",
       "    <tr>\n",
       "      <td>183</td>\n",
       "      <td>0.433333</td>\n",
       "      <td>971.333333</td>\n",
       "      <td>0.846949</td>\n",
       "      <td>0.827631</td>\n",
       "    </tr>\n",
       "  </tbody>\n",
       "</table>\n",
       "<p>124 rows × 4 columns</p>\n",
       "</div>"
      ],
      "text/plain": [
       "          WLD         PARK       BPF       PPF\n",
       "94   0.400000  1002.500000  0.872587  0.878518\n",
       "179  0.237500  1031.750000  0.871067  0.874504\n",
       "0    0.566667  1000.000000  0.858404  0.879156\n",
       "105  0.475000  1083.000000  0.883018  0.893453\n",
       "87   0.666667   938.000000  0.831685  0.798610\n",
       "..        ...          ...       ...       ...\n",
       "73   0.350000   964.000000  0.871238  0.869567\n",
       "131  0.380000   993.600000  0.873733  0.876009\n",
       "100  0.520000  1007.800000  0.854462  0.856262\n",
       "89   0.650000  1028.500000  0.892555  0.896712\n",
       "183  0.433333   971.333333  0.846949  0.827631\n",
       "\n",
       "[124 rows x 4 columns]"
      ]
     },
     "execution_count": 12,
     "metadata": {},
     "output_type": "execute_result"
    }
   ],
   "source": [
    "input_a1 = train_set.iloc[:, 12:18] # 타자 데이터(train)\n",
    "\n",
    "input_b1 = train_set.iloc[:,4:11] # 선발투수 데이터(train)\n",
    "input_b2 = train_set.iloc[:, 22:28] # 중간계투 데이터(train)\n",
    "\n",
    "input_c1 = train_set.iloc[:, 18:22] # 파크팩터(train)\n",
    "\n",
    "\n",
    "tinput_a1 = test_set.iloc[:, 12:18]# 타자 데이터(train)\n",
    "\n",
    "tinput_b1 = test_set.iloc[:, 4:11]# 선발투수 데이터(train)\n",
    "tinput_b2 =test_set.iloc[:, 22:28]  # 중간계투 데이터(train)\n",
    "\n",
    "tinput_c1 = test_set.iloc[:, 18:22] # 파크팩터(train)\n",
    "input_c1"
   ]
  },
  {
   "cell_type": "code",
   "execution_count": 13,
   "metadata": {},
   "outputs": [],
   "source": [
    "input_a1 = scaler.fit_transform(input_a1)\n",
    "input_b1 = scaler.fit_transform(input_b1)\n",
    "input_b2 = scaler.fit_transform(input_b2)\n",
    "input_c1 = scaler.fit_transform(input_c1)\n",
    "\n",
    "tinput_a1 = scaler.fit_transform(tinput_a1)\n",
    "tinput_b1 = scaler.fit_transform(tinput_b1)\n",
    "tinput_b2 = scaler.fit_transform(tinput_b2)\n",
    "tinput_c1 = scaler.fit_transform(tinput_c1)"
   ]
  },
  {
   "cell_type": "code",
   "execution_count": 14,
   "metadata": {},
   "outputs": [],
   "source": [
    "Output = train_set.iloc[:, -1:]\n",
    "y = test_set.iloc[:, -1:]"
   ]
  },
  {
   "cell_type": "markdown",
   "metadata": {},
   "source": [
    "득점예측은 딥러닝으로 한다. activation은 relu랑 selu,mish 중 가장 높은 정확도를 가지는 것으로 결정"
   ]
  },
  {
   "cell_type": "code",
   "execution_count": 15,
   "metadata": {},
   "outputs": [],
   "source": [
    "input_A1 = tf.keras.layers.Input(shape=[input_a1.shape[1]], name = \"bat_input_1\") # 타자\n",
    "input_B1 = tf.keras.layers.Input(shape=[input_b1.shape[1]], name = \"pit_input_1\") # 선발투수\n",
    "input_B2 = tf.keras.layers.Input(shape=[input_b2.shape[1]], name = \"pit_input_2\") # 중간계투\n",
    "input_C1 = tf.keras.layers.Input(shape=[input_c1.shape[1]], name = \"external_factor\") # 외적 요인\n",
    "\n",
    "##########################################################################\n",
    "\n",
    "hidden_A00 = tf.keras.layers.Dense(256, activation = \"mish\")(input_A1)\n",
    "# drop_A00 = tf.keras.layers.Dropout(0.5)(hidden_A00)\n",
    "\n",
    "hidden_A01 = tf.keras.layers.Dense(64, activation = \"mish\")(hidden_A00)\n",
    "# drop_A01 = tf.keras.layers.Dropout(0.5)(hidden_A01)\n",
    "\n",
    "hidden_A02 = tf.keras.layers.Dense(32, activation = \"mish\")(hidden_A01)\n",
    "drop_A02 = tf.keras.layers.Dropout(0.5)(hidden_A02)\n",
    "\n",
    "hidden_A03 = tf.keras.layers.Dense(32, activation = \"mish\")(drop_A02)\n",
    "# drop_A03 = tf.keras.layers.Dropout(0.5)(hidden_A03)\n",
    "\n",
    "hidden_A04 = tf.keras.layers.Dense(32, activation = \"mish\")(hidden_A03)\n",
    "drop_A04 = tf.keras.layers.Dropout(0.5)(hidden_A04)\n",
    "\n",
    "hidden_A05 = tf.keras.layers.Dense(32, activation = \"mish\")(drop_A04)\n",
    "# drop_A05 = tf.keras.layers.Dropout(0.5)(hidden_A05)\n",
    "\n",
    "hidden_A06 = tf.keras.layers.Dense(16, activation = \"mish\")(hidden_A05)\n",
    "drop_A06 = tf.keras.layers.Dropout(0.5)(hidden_A06)\n",
    "\n",
    "hidden_A07 = tf.keras.layers.Dense(16, activation = \"mish\")(drop_A06)\n",
    "# hidden_A08 = tf.keras.layers.Dense(30, activation = \"mish\")(hidden_A07)\n",
    "# drop_A08 = tf.keras.layers.Dropout(0.5)(hidden_A08)\n",
    "\n",
    "# hidden_A09 = tf.keras.layers.Dense(30, activation = \"mish\")(drop_A08)\n",
    "# hidden_A10 = tf.keras.layers.Dense(30, activation = \"mish\")(hidden_A09)\n",
    "# hidden_A11 = tf.keras.layers.Dense(30, activation = \"mish\")(hidden_A10)\n",
    "# hidden_A12 = tf.keras.layers.Dense(30, activation = \"mish\")(hidden_A11)\n",
    "\n",
    "##########################################################################\n",
    "\n",
    "hidden_B00 = tf.keras.layers.Dense(256, activation = \"mish\")(input_B1)\n",
    "# drop_B00 = tf.keras.layers.Dropout(0.5)(hidden_B00)\n",
    "\n",
    "hidden_B01 = tf.keras.layers.Dense(64, activation = \"mish\")(hidden_B00)\n",
    "# drop_B01 = tf.keras.layers.Dropout(0.5)(hidden_B01)\n",
    "\n",
    "hidden_B02 = tf.keras.layers.Dense(32, activation = \"mish\")(hidden_B01)\n",
    "drop_B02 = tf.keras.layers.Dropout(0.5)(hidden_B02)\n",
    "\n",
    "hidden_B03 = tf.keras.layers.Dense(32, activation = \"mish\")(drop_B02)\n",
    "# drop_B03 = tf.keras.layers.Dropout(0.5)(hidden_B03)\n",
    "\n",
    "hidden_B04 = tf.keras.layers.Dense(32, activation = \"mish\")(hidden_B03)\n",
    "drop_B04 = tf.keras.layers.Dropout(0.5)(hidden_B04)\n",
    "\n",
    "hidden_B05 = tf.keras.layers.Dense(32, activation = \"mish\")(drop_B04)\n",
    "# drop_B05 = tf.keras.layers.Dropout(0.5)(hidden_B05)\n",
    "\n",
    "hidden_B06 = tf.keras.layers.Dense(16, activation = \"mish\")(hidden_B05)\n",
    "drop_B06 = tf.keras.layers.Dropout(0.5)(hidden_B06)\n",
    "\n",
    "hidden_B07 = tf.keras.layers.Dense(16, activation = \"mish\")(drop_B06)\n",
    "# hidden_B08 = tf.keras.layers.Dense(30, activation = \"mish\")(hidden_B07)\n",
    "# drop_B08 = tf.keras.layers.Dropout(0.5)(hidden_B08)\n",
    "\n",
    "# hidden_B09 = tf.keras.layers.Dense(30, activation = \"mish\")(drop_B08)\n",
    "# hidden_B10 = tf.keras.layers.Dense(30, activation = \"mish\")(hidden_B09)\n",
    "# hidden_B11 = tf.keras.layers.Dense(30, activation = \"mish\")(hidden_B10)\n",
    "# hidden_B12 = tf.keras.layers.Dense(30, activation = \"mish\")(hidden_B11)\n",
    "\n",
    "##########################################################################\n",
    "\n",
    "hidden_B20 = tf.keras.layers.Dense(256, activation = \"mish\")(input_B2)\n",
    "# drop_B20 = tf.keras.layers.Dropout(0.5)(hidden_B20)\n",
    "\n",
    "hidden_B21 = tf.keras.layers.Dense(64, activation = \"mish\")(hidden_B20)\n",
    "# drop_B21 = tf.keras.layers.Dropout(0.5)(hidden_B21)\n",
    "\n",
    "hidden_B22 = tf.keras.layers.Dense(32, activation = \"mish\")(hidden_B21)\n",
    "drop_B22 = tf.keras.layers.Dropout(0.5)(hidden_B22)\n",
    "\n",
    "hidden_B23 = tf.keras.layers.Dense(32, activation = \"mish\")(drop_B22)\n",
    "# drop_B23 = tf.keras.layers.Dropout(0.5)(hidden_B23)\n",
    "\n",
    "hidden_B24 = tf.keras.layers.Dense(32, activation = \"mish\")(hidden_B23)\n",
    "drop_B24 = tf.keras.layers.Dropout(0.5)(hidden_B24)\n",
    "\n",
    "hidden_B25 = tf.keras.layers.Dense(32, activation = \"mish\")(drop_B24)\n",
    "# drop_B25 = tf.keras.layers.Dropout(0.5)(hidden_B25)\n",
    "\n",
    "hidden_B26 = tf.keras.layers.Dense(16, activation = \"mish\")(hidden_B25)\n",
    "drop_B26 = tf.keras.layers.Dropout(0.5)(hidden_B26)\n",
    "\n",
    "hidden_B27 = tf.keras.layers.Dense(16, activation = \"mish\")(drop_B26)\n",
    "# hidden_B28 = tf.keras.layers.Dense(30, activation = \"mish\")(hidden_B27)\n",
    "# drop_B28 = tf.keras.layers.Dropout(0.5)(hidden_B28)\n",
    "\n",
    "# hidden_B29 = tf.keras.layers.Dense(30, activation = \"mish\")(drop_B28)\n",
    "# hidden_B30 = tf.keras.layers.Dense(30, activation = \"mish\")(hidden_B29)\n",
    "# hidden_B31 = tf.keras.layers.Dense(30, activation = \"mish\")(hidden_B30)\n",
    "# hidden_B32 = tf.keras.layers.Dense(30, activation = \"mish\")(hidden_B31)\n",
    "\n",
    "##########################################################################\n",
    "\n",
    "hidden_C00 = tf.keras.layers.Dense(256, activation = \"mish\")(input_C1)\n",
    "# drop_C00 = tf.keras.layers.Dropout(0.5)(hidden_C00)\n",
    "\n",
    "hidden_C01 = tf.keras.layers.Dense(64, activation = \"mish\")(hidden_C00)\n",
    "# drop_C01 = tf.keras.layers.Dropout(0.5)(hidden_C01)\n",
    "\n",
    "hidden_C02 = tf.keras.layers.Dense(32, activation = \"mish\")(hidden_C01)\n",
    "drop_C02 = tf.keras.layers.Dropout(0.5)(hidden_C02)\n",
    "\n",
    "hidden_C03 = tf.keras.layers.Dense(32, activation = \"mish\")(hidden_C02)\n",
    "# drop_C03 = tf.keras.layers.Dropout(0.5)(hidden_C03)\n",
    "\n",
    "hidden_C04 = tf.keras.layers.Dense(32, activation = \"mish\")(hidden_C03)\n",
    "drop_C04 = tf.keras.layers.Dropout(0.5)(hidden_C04)\n",
    "\n",
    "hidden_C05 = tf.keras.layers.Dense(32, activation = \"mish\")(hidden_C04)\n",
    "# drop_C05 = tf.keras.layers.Dropout(0.5)(hidden_C05)\n",
    "\n",
    "hidden_C06 = tf.keras.layers.Dense(32, activation = \"mish\")(hidden_C05)\n",
    "# drop_C06 = tf.keras.layers.Dropout(0.5)(hidden_C06)\n",
    "\n",
    "hidden_C07 = tf.keras.layers.Dense(32, activation = \"mish\")(hidden_C06)\n",
    "# drop_C07 = tf.keras.layers.Dropout(0.5)(hidden_C07)\n",
    "hidden_C08 = tf.keras.layers.Dense(32, activation = \"mish\")(hidden_C07)\n",
    "# drop_C08 = tf.keras.layers.Dropout(0.5)(hidden_C08)\n",
    "\n",
    "# hidden_C09 = tf.keras.layers.Dense(32, activation = \"mish\")(hidden_C08)\n",
    "# hidden_C10 = tf.keras.layers.Dense(32, activation = \"mish\")(hidden_C09)\n",
    "# hidden_C11 = tf.keras.layers.Dense(32, activation = \"mish\")(hidden_C10)\n",
    "# hidden_C12 = tf.keras.layers.Dense(32, activation = \"mish\")(hidden_C11)\n",
    "\n",
    "concat = tf.keras.layers.concatenate([hidden_A07, hidden_B07, hidden_B27, hidden_C08])\n",
    "output = tf.keras.layers.Dense(1, name = \"output\")(concat)\n",
    "model = tf.keras.Model(inputs = [input_A1, input_B1, input_B2, input_C1], outputs = [output])"
   ]
  },
  {
   "cell_type": "code",
   "execution_count": 16,
   "metadata": {
    "scrolled": false
   },
   "outputs": [
    {
     "name": "stdout",
     "output_type": "stream",
     "text": [
      "Model: \"model\"\n",
      "__________________________________________________________________________________________________\n",
      "Layer (type)                    Output Shape         Param #     Connected to                     \n",
      "==================================================================================================\n",
      "bat_input_1 (InputLayer)        [(None, 6)]          0                                            \n",
      "__________________________________________________________________________________________________\n",
      "pit_input_1 (InputLayer)        [(None, 7)]          0                                            \n",
      "__________________________________________________________________________________________________\n",
      "pit_input_2 (InputLayer)        [(None, 6)]          0                                            \n",
      "__________________________________________________________________________________________________\n",
      "dense (Dense)                   (None, 256)          1792        bat_input_1[0][0]                \n",
      "__________________________________________________________________________________________________\n",
      "dense_8 (Dense)                 (None, 256)          2048        pit_input_1[0][0]                \n",
      "__________________________________________________________________________________________________\n",
      "dense_16 (Dense)                (None, 256)          1792        pit_input_2[0][0]                \n",
      "__________________________________________________________________________________________________\n",
      "dense_1 (Dense)                 (None, 64)           16448       dense[0][0]                      \n",
      "__________________________________________________________________________________________________\n",
      "dense_9 (Dense)                 (None, 64)           16448       dense_8[0][0]                    \n",
      "__________________________________________________________________________________________________\n",
      "dense_17 (Dense)                (None, 64)           16448       dense_16[0][0]                   \n",
      "__________________________________________________________________________________________________\n",
      "external_factor (InputLayer)    [(None, 4)]          0                                            \n",
      "__________________________________________________________________________________________________\n",
      "dense_2 (Dense)                 (None, 32)           2080        dense_1[0][0]                    \n",
      "__________________________________________________________________________________________________\n",
      "dense_10 (Dense)                (None, 32)           2080        dense_9[0][0]                    \n",
      "__________________________________________________________________________________________________\n",
      "dense_18 (Dense)                (None, 32)           2080        dense_17[0][0]                   \n",
      "__________________________________________________________________________________________________\n",
      "dense_24 (Dense)                (None, 256)          1280        external_factor[0][0]            \n",
      "__________________________________________________________________________________________________\n",
      "dropout (Dropout)               (None, 32)           0           dense_2[0][0]                    \n",
      "__________________________________________________________________________________________________\n",
      "dropout_3 (Dropout)             (None, 32)           0           dense_10[0][0]                   \n",
      "__________________________________________________________________________________________________\n",
      "dropout_6 (Dropout)             (None, 32)           0           dense_18[0][0]                   \n",
      "__________________________________________________________________________________________________\n",
      "dense_25 (Dense)                (None, 64)           16448       dense_24[0][0]                   \n",
      "__________________________________________________________________________________________________\n",
      "dense_3 (Dense)                 (None, 32)           1056        dropout[0][0]                    \n",
      "__________________________________________________________________________________________________\n",
      "dense_11 (Dense)                (None, 32)           1056        dropout_3[0][0]                  \n",
      "__________________________________________________________________________________________________\n",
      "dense_19 (Dense)                (None, 32)           1056        dropout_6[0][0]                  \n",
      "__________________________________________________________________________________________________\n",
      "dense_26 (Dense)                (None, 32)           2080        dense_25[0][0]                   \n",
      "__________________________________________________________________________________________________\n",
      "dense_4 (Dense)                 (None, 32)           1056        dense_3[0][0]                    \n",
      "__________________________________________________________________________________________________\n",
      "dense_12 (Dense)                (None, 32)           1056        dense_11[0][0]                   \n",
      "__________________________________________________________________________________________________\n",
      "dense_20 (Dense)                (None, 32)           1056        dense_19[0][0]                   \n",
      "__________________________________________________________________________________________________\n",
      "dense_27 (Dense)                (None, 32)           1056        dense_26[0][0]                   \n",
      "__________________________________________________________________________________________________\n",
      "dropout_1 (Dropout)             (None, 32)           0           dense_4[0][0]                    \n",
      "__________________________________________________________________________________________________\n",
      "dropout_4 (Dropout)             (None, 32)           0           dense_12[0][0]                   \n",
      "__________________________________________________________________________________________________\n",
      "dropout_7 (Dropout)             (None, 32)           0           dense_20[0][0]                   \n",
      "__________________________________________________________________________________________________\n",
      "dense_28 (Dense)                (None, 32)           1056        dense_27[0][0]                   \n",
      "__________________________________________________________________________________________________\n",
      "dense_5 (Dense)                 (None, 32)           1056        dropout_1[0][0]                  \n",
      "__________________________________________________________________________________________________\n",
      "dense_13 (Dense)                (None, 32)           1056        dropout_4[0][0]                  \n",
      "__________________________________________________________________________________________________\n",
      "dense_21 (Dense)                (None, 32)           1056        dropout_7[0][0]                  \n",
      "__________________________________________________________________________________________________\n",
      "dense_29 (Dense)                (None, 32)           1056        dense_28[0][0]                   \n",
      "__________________________________________________________________________________________________\n",
      "dense_6 (Dense)                 (None, 16)           528         dense_5[0][0]                    \n",
      "__________________________________________________________________________________________________\n",
      "dense_14 (Dense)                (None, 16)           528         dense_13[0][0]                   \n",
      "__________________________________________________________________________________________________\n",
      "dense_22 (Dense)                (None, 16)           528         dense_21[0][0]                   \n",
      "__________________________________________________________________________________________________\n",
      "dense_30 (Dense)                (None, 32)           1056        dense_29[0][0]                   \n",
      "__________________________________________________________________________________________________\n",
      "dropout_2 (Dropout)             (None, 16)           0           dense_6[0][0]                    \n",
      "__________________________________________________________________________________________________\n",
      "dropout_5 (Dropout)             (None, 16)           0           dense_14[0][0]                   \n",
      "__________________________________________________________________________________________________\n",
      "dropout_8 (Dropout)             (None, 16)           0           dense_22[0][0]                   \n",
      "__________________________________________________________________________________________________\n",
      "dense_31 (Dense)                (None, 32)           1056        dense_30[0][0]                   \n",
      "__________________________________________________________________________________________________\n",
      "dense_7 (Dense)                 (None, 16)           272         dropout_2[0][0]                  \n",
      "__________________________________________________________________________________________________\n",
      "dense_15 (Dense)                (None, 16)           272         dropout_5[0][0]                  \n",
      "__________________________________________________________________________________________________\n",
      "dense_23 (Dense)                (None, 16)           272         dropout_8[0][0]                  \n",
      "__________________________________________________________________________________________________\n",
      "dense_32 (Dense)                (None, 32)           1056        dense_31[0][0]                   \n",
      "__________________________________________________________________________________________________\n",
      "concatenate (Concatenate)       (None, 80)           0           dense_7[0][0]                    \n",
      "                                                                 dense_15[0][0]                   \n",
      "                                                                 dense_23[0][0]                   \n",
      "                                                                 dense_32[0][0]                   \n",
      "__________________________________________________________________________________________________\n",
      "output (Dense)                  (None, 1)            81          concatenate[0][0]                \n",
      "==================================================================================================\n",
      "Total params: 99,345\n",
      "Trainable params: 99,345\n",
      "Non-trainable params: 0\n",
      "__________________________________________________________________________________________________\n"
     ]
    }
   ],
   "source": [
    "model.summary()"
   ]
  },
  {
   "cell_type": "code",
   "execution_count": 17,
   "metadata": {},
   "outputs": [],
   "source": [
    "model.compile(loss = 'mae', optimizer = 'adam', metrics = ['mae'])"
   ]
  },
  {
   "cell_type": "code",
   "execution_count": 18,
   "metadata": {
    "scrolled": true
   },
   "outputs": [
    {
     "name": "stdout",
     "output_type": "stream",
     "text": [
      "Train on 124 samples\n",
      "Epoch 1/50\n",
      "124/124 [==============================] - 6s 49ms/sample - loss: 5.0417 - mae: 5.0417\n",
      "Epoch 2/50\n",
      "124/124 [==============================] - 0s 547us/sample - loss: 4.8775 - mae: 4.8775\n",
      "Epoch 3/50\n",
      "124/124 [==============================] - 0s 555us/sample - loss: 4.5463 - mae: 4.5463\n",
      "Epoch 4/50\n",
      "124/124 [==============================] - 0s 521us/sample - loss: 3.9284 - mae: 3.9284\n",
      "Epoch 5/50\n",
      "124/124 [==============================] - 0s 603us/sample - loss: 2.6747 - mae: 2.6747\n",
      "Epoch 6/50\n",
      "124/124 [==============================] - 0s 539us/sample - loss: 1.8959 - mae: 1.8959\n",
      "Epoch 7/50\n",
      "124/124 [==============================] - 0s 527us/sample - loss: 2.2253 - mae: 2.2253\n",
      "Epoch 8/50\n",
      "124/124 [==============================] - 0s 547us/sample - loss: 1.7581 - mae: 1.7581\n",
      "Epoch 9/50\n",
      "124/124 [==============================] - 0s 555us/sample - loss: 1.8011 - mae: 1.8011\n",
      "Epoch 10/50\n",
      "124/124 [==============================] - 0s 519us/sample - loss: 1.7527 - mae: 1.7527\n",
      "Epoch 11/50\n",
      "124/124 [==============================] - 0s 547us/sample - loss: 1.6617 - mae: 1.6617\n",
      "Epoch 12/50\n",
      "124/124 [==============================] - 0s 603us/sample - loss: 1.6568 - mae: 1.6568\n",
      "Epoch 13/50\n",
      "124/124 [==============================] - 0s 611us/sample - loss: 1.7440 - mae: 1.7440\n",
      "Epoch 14/50\n",
      "124/124 [==============================] - 0s 684us/sample - loss: 1.6326 - mae: 1.6326\n",
      "Epoch 15/50\n",
      "124/124 [==============================] - 0s 587us/sample - loss: 1.6203 - mae: 1.6203\n",
      "Epoch 16/50\n",
      "124/124 [==============================] - 0s 651us/sample - loss: 1.6797 - mae: 1.6797\n",
      "Epoch 17/50\n",
      "124/124 [==============================] - 0s 756us/sample - loss: 1.6297 - mae: 1.6297\n",
      "Epoch 18/50\n",
      "124/124 [==============================] - 0s 627us/sample - loss: 1.5723 - mae: 1.5723\n",
      "Epoch 19/50\n",
      "124/124 [==============================] - 0s 660us/sample - loss: 1.6267 - mae: 1.6267\n",
      "Epoch 20/50\n",
      "124/124 [==============================] - 0s 611us/sample - loss: 1.6162 - mae: 1.6162\n",
      "Epoch 21/50\n",
      "124/124 [==============================] - 0s 708us/sample - loss: 1.5547 - mae: 1.5547\n",
      "Epoch 22/50\n",
      "124/124 [==============================] - 0s 696us/sample - loss: 1.5948 - mae: 1.5948\n",
      "Epoch 23/50\n",
      "124/124 [==============================] - 0s 700us/sample - loss: 1.6385 - mae: 1.6385\n",
      "Epoch 24/50\n",
      "124/124 [==============================] - 0s 563us/sample - loss: 1.6558 - mae: 1.6558\n",
      "Epoch 25/50\n",
      "124/124 [==============================] - 0s 571us/sample - loss: 1.5675 - mae: 1.5675\n",
      "Epoch 26/50\n",
      "124/124 [==============================] - 0s 587us/sample - loss: 1.5848 - mae: 1.5848\n",
      "Epoch 27/50\n",
      "124/124 [==============================] - 0s 531us/sample - loss: 1.6302 - mae: 1.6302\n",
      "Epoch 28/50\n",
      "124/124 [==============================] - 0s 540us/sample - loss: 1.5914 - mae: 1.5914\n",
      "Epoch 29/50\n",
      "124/124 [==============================] - 0s 563us/sample - loss: 1.5383 - mae: 1.5383\n",
      "Epoch 30/50\n",
      "124/124 [==============================] - 0s 540us/sample - loss: 1.5909 - mae: 1.5909\n",
      "Epoch 31/50\n",
      "124/124 [==============================] - 0s 547us/sample - loss: 1.5621 - mae: 1.5621\n",
      "Epoch 32/50\n",
      "124/124 [==============================] - 0s 539us/sample - loss: 1.6003 - mae: 1.6003\n",
      "Epoch 33/50\n",
      "124/124 [==============================] - 0s 595us/sample - loss: 1.5786 - mae: 1.5786\n",
      "Epoch 34/50\n",
      "124/124 [==============================] - 0s 627us/sample - loss: 1.5814 - mae: 1.5814\n",
      "Epoch 35/50\n",
      "124/124 [==============================] - 0s 539us/sample - loss: 1.5643 - mae: 1.5643\n",
      "Epoch 36/50\n",
      "124/124 [==============================] - 0s 619us/sample - loss: 1.5846 - mae: 1.5846\n",
      "Epoch 37/50\n",
      "124/124 [==============================] - 0s 579us/sample - loss: 1.5829 - mae: 1.5829\n",
      "Epoch 38/50\n",
      "124/124 [==============================] - 0s 531us/sample - loss: 1.5660 - mae: 1.5660\n",
      "Epoch 39/50\n",
      "124/124 [==============================] - 0s 539us/sample - loss: 1.5483 - mae: 1.5483\n",
      "Epoch 40/50\n",
      "124/124 [==============================] - 0s 547us/sample - loss: 1.5163 - mae: 1.5163\n",
      "Epoch 41/50\n",
      "124/124 [==============================] - 0s 628us/sample - loss: 1.5255 - mae: 1.5255\n",
      "Epoch 42/50\n",
      "124/124 [==============================] - 0s 764us/sample - loss: 1.5865 - mae: 1.5865\n",
      "Epoch 43/50\n",
      "124/124 [==============================] - 0s 812us/sample - loss: 1.4944 - mae: 1.4944\n",
      "Epoch 44/50\n",
      "124/124 [==============================] - 0s 941us/sample - loss: 1.4684 - mae: 1.4684\n",
      "Epoch 45/50\n",
      "124/124 [==============================] - 0s 579us/sample - loss: 1.5811 - mae: 1.5811\n",
      "Epoch 46/50\n",
      "124/124 [==============================] - 0s 579us/sample - loss: 1.5024 - mae: 1.5024\n",
      "Epoch 47/50\n",
      "124/124 [==============================] - 0s 528us/sample - loss: 1.4680 - mae: 1.4680\n",
      "Epoch 48/50\n",
      "124/124 [==============================] - 0s 547us/sample - loss: 1.5518 - mae: 1.5518\n",
      "Epoch 49/50\n",
      "124/124 [==============================] - 0s 539us/sample - loss: 1.5442 - mae: 1.5442\n",
      "Epoch 50/50\n",
      "124/124 [==============================] - 0s 597us/sample - loss: 1.5201 - mae: 1.5201\n"
     ]
    }
   ],
   "source": [
    "history = model.fit([input_a1, input_b1, input_b2, input_c1], [Output], epochs = 50)"
   ]
  },
  {
   "cell_type": "code",
   "execution_count": 19,
   "metadata": {},
   "outputs": [],
   "source": [
    "pred = model.predict((tinput_a1, tinput_b1, tinput_b2, tinput_c1))"
   ]
  },
  {
   "cell_type": "code",
   "execution_count": 20,
   "metadata": {},
   "outputs": [
    {
     "name": "stdout",
     "output_type": "stream",
     "text": [
      "124/124 [==============================] - 1s 5ms/sample - loss: 1.4693 - mae: 1.4693\n"
     ]
    }
   ],
   "source": [
    "test = model.evaluate((input_a1, input_b1, input_b2, input_c1), (Output))"
   ]
  },
  {
   "cell_type": "code",
   "execution_count": 21,
   "metadata": {},
   "outputs": [
    {
     "name": "stdout",
     "output_type": "stream",
     "text": [
      "\r",
      "31/31 [==============================] - 0s 322us/sample - loss: 1.6142 - mae: 1.6142\n"
     ]
    }
   ],
   "source": [
    "test = model.evaluate((tinput_a1, tinput_b1, tinput_b2, tinput_c1), (y))"
   ]
  },
  {
   "cell_type": "code",
   "execution_count": 22,
   "metadata": {},
   "outputs": [
    {
     "data": {
      "image/png": "[encoded data removed]",
      "text/plain": [
       "<Figure size 720x504 with 1 Axes>"
      ]
     },
     "metadata": {
      "needs_background": "light"
     },
     "output_type": "display_data"
    }
   ],
   "source": [
    "x = range(len(y))\n",
    "y = y\n",
    "y2 = pred\n",
    "plt.figure(figsize = (10, 7))\n",
    "plt.plot(x, y,'x', label = 'real')\n",
    "plt.plot(x, y2, 'o', label = 'predict')\n",
    "plt.xlabel('game')\n",
    "plt.ylabel('RUN')\n",
    "plt.legend(loc = 'upper right')\n",
    "plt.show()"
   ]
  }
 ],
 "metadata": {
  "kernelspec": {
   "display_name": "Python 3",
   "language": "python",
   "name": "python3"
  },
  "language_info": {
   "codemirror_mode": {
    "name": "ipython",
    "version": 3
   },
   "file_extension": ".py",
   "mimetype": "text/x-python",
   "name": "python",
   "nbconvert_exporter": "python",
   "pygments_lexer": "ipython3",
   "version": "3.7.4"
  }
 },
 "nbformat": 4,
 "nbformat_minor": 2
}

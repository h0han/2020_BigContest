{
 "cells": [
  {
   "cell_type": "code",
   "execution_count": 1,
   "metadata": {},
   "outputs": [],
   "source": [
    "import warnings\n",
    "warnings.simplefilter(action='ignore', category=FutureWarning)\n",
    "warnings.filterwarnings(action='ignore')\n",
    "import pandas as pd\n",
    "import platform\n",
    "import matplotlib\n",
    "import matplotlib.pyplot as plt\n",
    "if platform.system() == 'Windows':\n",
    "    matplotlib.rc('font', family='Malgun Gothic')\n",
    "elif platform.system() == 'Darwin':\n",
    "    matplotlib.rc('font', family='AppleGothic')\n",
    "else:\n",
    "    matplotlib.rc('font', family='NanumGothic')\n",
    "    \n",
    "# tensorflow warning off\n",
    "import tensorflow as tf\n",
    "tf.compat.v1.logging.set_verbosity(tf.compat.v1.logging.ERROR)    "
   ]
  },
  {
   "cell_type": "code",
   "execution_count": 2,
   "metadata": {},
   "outputs": [],
   "source": [
    "df = pd.read_csv('input_data.csv',  encoding='utf-8')"
   ]
  },
  {
   "cell_type": "code",
   "execution_count": 3,
   "metadata": {},
   "outputs": [
    {
     "data": {
      "text/plain": [
       "\"['경기수', '피장타율', '방어율', '삼진/볼넷', '피출루율', '피OPS', '9이닝당 삼진수', '9이닝당 볼넷수', '잔루처리율', '해당경기 실점', 'cOBP', 'cSLG', 'cOPS', 'cBABIP', 'KK/BB', 'wOBA', 'WLD', 'PARK', 'BPF', 'PPF', '피장타율_', '방어율_', '삼진/볼넷_', '피출루율_', '피OPS_', '9이닝당삼진수_', '9이닝당볼넷수_', '잔루처리율_', 'RUN']\""
      ]
     },
     "execution_count": 3,
     "metadata": {},
     "output_type": "execute_result"
    }
   ],
   "source": [
    "teamids=['HH','HT','KT','LG','LT','NC','OB','SK','SS','WO',]\n",
    "features=list(df)\n",
    "features=features[5:]\n",
    "str(features)"
   ]
  },
  {
   "cell_type": "code",
   "execution_count": 4,
   "metadata": {},
   "outputs": [],
   "source": [
    "def make_sum(df,S,E):  # dictionary 형태의 dataset을 형성한다.\n",
    "    dic = {}\n",
    "    for i in range(S,E):\n",
    "        tid = df['T_ID'][i]\n",
    "        vstid = df['VS_T_ID'][i]\n",
    "        for j in features:\n",
    "            globals()['{}'.format(j)] =df[j][i]\n",
    "        # 팀 아이디가 딕셔너리에 없을 경우\n",
    "        if df['T_ID'][i] not in dic.keys():\n",
    "            dic[tid] = {}\n",
    "\n",
    "        # 상대 팀 아이디가 딕셔너리에 없을 경우\n",
    "        if df['VS_T_ID'][i] not in dic[tid].keys():\n",
    "            dic[tid][vstid] = {}\n",
    "            dic[tid][vstid] = [1]\n",
    "            for j in range(len(features)):\n",
    "                dic[tid][vstid].append(df[features[j]][i])\n",
    "\n",
    "        else:\n",
    "            dic[tid][vstid][0]+=1  #tid랑 vstid랑 잔여경기중에서 몇번 만났는지\n",
    "            for j in range(len(features)):\n",
    "                dic[tid][vstid][j+1]+=df[features[j]][i] #각 feature들을 더해줌\n",
    "    return dic"
   ]
  },
  {
   "cell_type": "code",
   "execution_count": 5,
   "metadata": {},
   "outputs": [],
   "source": [
    "data2016=make_sum(df,0,268)\n",
    "data2017=make_sum(df,268,481)\n",
    "data2018=make_sum(df,481,750)\n",
    "data2019=make_sum(df,750,len(df)-1)"
   ]
  },
  {
   "cell_type": "code",
   "execution_count": 6,
   "metadata": {},
   "outputs": [],
   "source": [
    "def make_sum2(dic):\n",
    "    for tid in teamids:\n",
    "        for vstid in teamids:\n",
    "            if tid==vstid:\n",
    "                continue\n",
    "            else:\n",
    "                if vstid not in dic[tid].keys():\n",
    "                    continue\n",
    "                for j in range(len(features)):\n",
    "                    dic[tid][vstid][j+1]=dic[tid][vstid][j+1]/dic[tid][vstid][0]  #경기당 평균을 넣음\n",
    "    return dic"
   ]
  },
  {
   "cell_type": "code",
   "execution_count": 7,
   "metadata": {},
   "outputs": [],
   "source": [
    "data2016final=make_sum2(data2016)\n",
    "data2017final=make_sum2(data2017)\n",
    "data2018final=make_sum2(data2018)\n",
    "data2019final=make_sum2(data2019)"
   ]
  },
  {
   "cell_type": "code",
   "execution_count": 8,
   "metadata": {},
   "outputs": [],
   "source": [
    "from openpyxl import Workbook\n",
    "wb = Workbook()\n",
    "\n",
    "#파일 이름을 정하고, 데이터를 넣을 시트를 활성화합니다.\n",
    "sheet1 = wb.active\n",
    "\n",
    "#시트의 이름을 정합니다.\n",
    "sheet1.title = 'sampdleSheet'"
   ]
  },
  {
   "cell_type": "code",
   "execution_count": 9,
   "metadata": {},
   "outputs": [],
   "source": [
    "sheet1.append(['year','home','away','경기수','피장타율','방어율','삼진/볼넷','피출루율','피OPS','9이닝당 삼진수','9이닝당 볼넷수','잔루처리율'])"
   ]
  },
  {
   "cell_type": "code",
   "execution_count": 10,
   "metadata": {},
   "outputs": [],
   "source": [
    "def make_csv(dic,year):\n",
    "    for home in teamids:\n",
    "        for away in teamids:\n",
    "            if home==away:\n",
    "                continue\n",
    "            else:\n",
    "                if away not in dic[home].keys():\n",
    "                    continue\n",
    "                else:\n",
    "                    sheet1.append([year,home,away,dic[home][away][0],dic[home][away][1],dic[home][away][2],dic[home][away][3],dic[home][away][4],dic[home][away][5],dic[home][away][6],dic[home][away][7],dic[home][away][8],dic[home][away][9],dic[home][away][10],dic[home][away][11],dic[home][away][12],dic[home][away][13],dic[home][away][14],dic[home][away][15],dic[home][away][16],dic[home][away][17],dic[home][away][18],dic[home][away][19],dic[home][away][20],dic[home][away][21],dic[home][away][22],dic[home][away][23],dic[home][away][24],dic[home][away][25],dic[home][away][26],dic[home][away][27],dic[home][away][28],dic[home][away][29]])"
   ]
  },
  {
   "cell_type": "code",
   "execution_count": 11,
   "metadata": {},
   "outputs": [],
   "source": [
    "make_csv(data2016final,2016)\n",
    "make_csv(data2017final,2017)\n",
    "make_csv(data2018final,2018)\n",
    "make_csv(data2019final,2019)"
   ]
  },
  {
   "cell_type": "code",
   "execution_count": 12,
   "metadata": {},
   "outputs": [],
   "source": [
    "wb.save('input_data_2.xlsx')"
   ]
  }
 ],
 "metadata": {
  "kernelspec": {
   "display_name": "Python 3",
   "language": "python",
   "name": "python3"
  },
  "language_info": {
   "codemirror_mode": {
    "name": "ipython",
    "version": 3
   },
   "file_extension": ".py",
   "mimetype": "text/x-python",
   "name": "python",
   "nbconvert_exporter": "python",
   "pygments_lexer": "ipython3",
   "version": "3.7.4"
  }
 },
 "nbformat": 4,
 "nbformat_minor": 4
}

{
 "cells": [
  {
   "cell_type": "code",
   "execution_count": 1,
   "metadata": {},
   "outputs": [],
   "source": [
    "import pandas as pd\n",
    "import numpy as np"
   ]
  },
  {
   "cell_type": "code",
   "execution_count": 2,
   "metadata": {},
   "outputs": [
    {
     "data": {
      "text/html": [
       "<div>\n",
       "<style scoped>\n",
       "    .dataframe tbody tr th:only-of-type {\n",
       "        vertical-align: middle;\n",
       "    }\n",
       "\n",
       "    .dataframe tbody tr th {\n",
       "        vertical-align: top;\n",
       "    }\n",
       "\n",
       "    .dataframe thead th {\n",
       "        text-align: right;\n",
       "    }\n",
       "</style>\n",
       "<table border=\"1\" class=\"dataframe\">\n",
       "  <thead>\n",
       "    <tr style=\"text-align: right;\">\n",
       "      <th></th>\n",
       "      <th>T_ID</th>\n",
       "      <th>VS_T_ID</th>\n",
       "      <th>경기수</th>\n",
       "      <th>경기당득점</th>\n",
       "      <th>총득점</th>\n",
       "    </tr>\n",
       "  </thead>\n",
       "  <tbody>\n",
       "    <tr>\n",
       "      <td>0</td>\n",
       "      <td>HH</td>\n",
       "      <td>HT</td>\n",
       "      <td>3</td>\n",
       "      <td>5.546075</td>\n",
       "      <td>16.638226</td>\n",
       "    </tr>\n",
       "    <tr>\n",
       "      <td>1</td>\n",
       "      <td>HH</td>\n",
       "      <td>KT</td>\n",
       "      <td>2</td>\n",
       "      <td>5.511992</td>\n",
       "      <td>11.023985</td>\n",
       "    </tr>\n",
       "    <tr>\n",
       "      <td>2</td>\n",
       "      <td>HH</td>\n",
       "      <td>LG</td>\n",
       "      <td>4</td>\n",
       "      <td>5.192637</td>\n",
       "      <td>20.770548</td>\n",
       "    </tr>\n",
       "    <tr>\n",
       "      <td>3</td>\n",
       "      <td>HH</td>\n",
       "      <td>LT</td>\n",
       "      <td>1</td>\n",
       "      <td>6.285862</td>\n",
       "      <td>6.285862</td>\n",
       "    </tr>\n",
       "    <tr>\n",
       "      <td>4</td>\n",
       "      <td>HH</td>\n",
       "      <td>NC</td>\n",
       "      <td>3</td>\n",
       "      <td>5.202411</td>\n",
       "      <td>15.607232</td>\n",
       "    </tr>\n",
       "    <tr>\n",
       "      <td>...</td>\n",
       "      <td>...</td>\n",
       "      <td>...</td>\n",
       "      <td>...</td>\n",
       "      <td>...</td>\n",
       "      <td>...</td>\n",
       "    </tr>\n",
       "    <tr>\n",
       "      <td>77</td>\n",
       "      <td>WO</td>\n",
       "      <td>LG</td>\n",
       "      <td>1</td>\n",
       "      <td>5.498147</td>\n",
       "      <td>5.498147</td>\n",
       "    </tr>\n",
       "    <tr>\n",
       "      <td>78</td>\n",
       "      <td>WO</td>\n",
       "      <td>LT</td>\n",
       "      <td>5</td>\n",
       "      <td>4.872900</td>\n",
       "      <td>24.364500</td>\n",
       "    </tr>\n",
       "    <tr>\n",
       "      <td>79</td>\n",
       "      <td>WO</td>\n",
       "      <td>NC</td>\n",
       "      <td>2</td>\n",
       "      <td>5.303939</td>\n",
       "      <td>10.607879</td>\n",
       "    </tr>\n",
       "    <tr>\n",
       "      <td>80</td>\n",
       "      <td>WO</td>\n",
       "      <td>OB</td>\n",
       "      <td>2</td>\n",
       "      <td>5.765799</td>\n",
       "      <td>11.531598</td>\n",
       "    </tr>\n",
       "    <tr>\n",
       "      <td>81</td>\n",
       "      <td>WO</td>\n",
       "      <td>SS</td>\n",
       "      <td>2</td>\n",
       "      <td>5.696696</td>\n",
       "      <td>11.393393</td>\n",
       "    </tr>\n",
       "  </tbody>\n",
       "</table>\n",
       "<p>82 rows × 5 columns</p>\n",
       "</div>"
      ],
      "text/plain": [
       "   T_ID VS_T_ID  경기수     경기당득점        총득점\n",
       "0    HH      HT    3  5.546075  16.638226\n",
       "1    HH      KT    2  5.511992  11.023985\n",
       "2    HH      LG    4  5.192637  20.770548\n",
       "3    HH      LT    1  6.285862   6.285862\n",
       "4    HH      NC    3  5.202411  15.607232\n",
       "..  ...     ...  ...       ...        ...\n",
       "77   WO      LG    1  5.498147   5.498147\n",
       "78   WO      LT    5  4.872900  24.364500\n",
       "79   WO      NC    2  5.303939  10.607879\n",
       "80   WO      OB    2  5.765799  11.531598\n",
       "81   WO      SS    2  5.696696  11.393393\n",
       "\n",
       "[82 rows x 5 columns]"
      ]
     },
     "execution_count": 2,
     "metadata": {},
     "output_type": "execute_result"
    }
   ],
   "source": [
    "df = pd.read_csv('2020득실점.csv') # '득점 예측 모델' output 결과\n",
    "df"
   ]
  },
  {
   "cell_type": "code",
   "execution_count": 3,
   "metadata": {},
   "outputs": [
    {
     "data": {
      "text/plain": [
       "['경기수', '경기당득점', '총득점']"
      ]
     },
     "execution_count": 3,
     "metadata": {},
     "output_type": "execute_result"
    }
   ],
   "source": [
    "teamids=['HH','HT','KT','LG','LT','NC','OB','SK','SS','WO',]\n",
    "features=list(df)\n",
    "features=features[2:]\n",
    "features"
   ]
  },
  {
   "cell_type": "code",
   "execution_count": 4,
   "metadata": {},
   "outputs": [],
   "source": [
    "def make_run(df):  # dictionary 형태의 dataset을 형성한다.\n",
    "    dic = {}\n",
    "    for i in range(len(df)):\n",
    "        tid = df['T_ID'][i]\n",
    "        vstid = df['VS_T_ID'][i]\n",
    "        # 팀 아이디가 딕셔너리에 없을 경우\n",
    "        if df['T_ID'][i] not in dic.keys():\n",
    "            dic[tid] = {}\n",
    "            dic[tid]['득점경기수']=0\n",
    "            dic[tid]['득점']=0\n",
    "            dic[tid]['실점']=0\n",
    "            dic[tid]['실점경기수']=0\n",
    "\n",
    "        # 상대 팀 아이디가 딕셔너리에 없을 경우\n",
    "        if df['VS_T_ID'][i] not in dic.keys():\n",
    "            dic[vstid] = {}\n",
    "            dic[vstid]['득점경기수']=0\n",
    "            dic[vstid]['득점']=0\n",
    "            dic[vstid]['실점']=0\n",
    "            dic[vstid]['실점경기수']=0\n",
    "        dic[tid]['득점경기수']+=df['경기수'][i]\n",
    "        dic[tid]['득점']+=df['총득점'][i]\n",
    "        dic[vstid]['실점']+=df['총득점'][i]\n",
    "        dic[vstid]['실점경기수']+=df['경기수'][i]\n",
    "    for tid in teamids:\n",
    "        dic[tid]['경기당득점']=dic[tid]['득점']/dic[tid]['득점경기수']\n",
    "        dic[tid]['경기당실점']=dic[tid]['실점']/dic[tid]['실점경기수']\n",
    "    return dic"
   ]
  },
  {
   "cell_type": "code",
   "execution_count": 5,
   "metadata": {},
   "outputs": [],
   "source": [
    "data2020=make_run(df)"
   ]
  },
  {
   "cell_type": "code",
   "execution_count": 6,
   "metadata": {},
   "outputs": [
    {
     "data": {
      "text/plain": [
       "{'HH': {'득점경기수': 24,\n",
       "  '득점': 122.15665469999999,\n",
       "  '실점': 87.48263990000001,\n",
       "  '실점경기수': 19,\n",
       "  '경기당득점': 5.0898606125,\n",
       "  '경기당실점': 4.604349468421053},\n",
       " 'HT': {'득점경기수': 23,\n",
       "  '득점': 101.28908209999999,\n",
       "  '실점': 132.7324414,\n",
       "  '실점경기수': 25,\n",
       "  '경기당득점': 4.403873134782608,\n",
       "  '경기당실점': 5.309297656},\n",
       " 'KT': {'득점경기수': 20,\n",
       "  '득점': 102.1881094,\n",
       "  '실점': 113.1047907,\n",
       "  '실점경기수': 24,\n",
       "  '경기당득점': 5.1094054700000004,\n",
       "  '경기당실점': 4.7126996125},\n",
       " 'LG': {'득점경기수': 23,\n",
       "  '득점': 116.7609597,\n",
       "  '실점': 114.82095610000002,\n",
       "  '실점경기수': 23,\n",
       "  '경기당득점': 5.076563465217391,\n",
       "  '경기당실점': 4.992215482608697},\n",
       " 'LT': {'득점경기수': 18,\n",
       "  '득점': 82.9014804,\n",
       "  '실점': 114.8254456,\n",
       "  '실점경기수': 23,\n",
       "  '경기당득점': 4.6056378,\n",
       "  '경기당실점': 4.992410678260869},\n",
       " 'NC': {'득점경기수': 22,\n",
       "  '득점': 108.93014289999999,\n",
       "  '실점': 124.27304240000001,\n",
       "  '실점경기수': 24,\n",
       "  '경기당득점': 4.951370131818181,\n",
       "  '경기당실점': 5.178043433333333},\n",
       " 'OB': {'득점경기수': 23,\n",
       "  '득점': 113.4379954,\n",
       "  '실점': 98.15450870000001,\n",
       "  '실점경기수': 19,\n",
       "  '경기당득점': 4.9320867565217394,\n",
       "  '경기당실점': 5.166026773684211},\n",
       " 'SK': {'득점경기수': 26,\n",
       "  '득점': 136.5949941,\n",
       "  '실점': 96.2188383,\n",
       "  '실점경기수': 21,\n",
       "  '경기당득점': 5.25365361923077,\n",
       "  '경기당실점': 4.581849442857143},\n",
       " 'SS': {'득점경기수': 26,\n",
       "  '득점': 136.3336075,\n",
       "  '실점': 79.2871759,\n",
       "  '실점경기수': 16,\n",
       "  '경기당득점': 5.243600288461538,\n",
       "  '경기당실점': 4.95544849375},\n",
       " 'WO': {'득점경기수': 22,\n",
       "  '득점': 110.1184552,\n",
       "  '실점': 169.81164239999998,\n",
       "  '실점경기수': 33,\n",
       "  '경기당득점': 5.005384327272727,\n",
       "  '경기당실점': 5.1458073454545445}}"
      ]
     },
     "execution_count": 6,
     "metadata": {},
     "output_type": "execute_result"
    }
   ],
   "source": [
    "data2020"
   ]
  },
  {
   "cell_type": "code",
   "execution_count": 7,
   "metadata": {},
   "outputs": [],
   "source": [
    "from openpyxl import Workbook\n",
    "wb = Workbook()\n",
    "\n",
    "#파일 이름을 정하고, 데이터를 넣을 시트를 활성화합니다.\n",
    "sheet1 = wb.active\n",
    "\n",
    "#시트의 이름을 정합니다.\n",
    "sheet1.title = 'sampdleSheet'"
   ]
  },
  {
   "cell_type": "code",
   "execution_count": 8,
   "metadata": {},
   "outputs": [],
   "source": [
    "sheet1.append(['팀','경기당득점','경기당실점'])\n",
    "for tid in teamids:\n",
    "    sheet1.append([tid,data2020[tid]['경기당득점'],data2020[tid]['경기당실점']])"
   ]
  },
  {
   "cell_type": "code",
   "execution_count": 9,
   "metadata": {},
   "outputs": [],
   "source": [
    "wb.save('Final_경기당득실점.xlsx')"
   ]
  }
 ],
 "metadata": {
  "kernelspec": {
   "display_name": "Python 3",
   "language": "python",
   "name": "python3"
  },
  "language_info": {
   "codemirror_mode": {
    "name": "ipython",
    "version": 3
   },
   "file_extension": ".py",
   "mimetype": "text/x-python",
   "name": "python",
   "nbconvert_exporter": "python",
   "pygments_lexer": "ipython3",
   "version": "3.7.4"
  }
 },
 "nbformat": 4,
 "nbformat_minor": 4
}

{
 "cells": [
  {
   "cell_type": "code",
   "execution_count": 1,
   "metadata": {},
   "outputs": [],
   "source": [
    "import pandas as pd\n",
    "import numpy as np"
   ]
  },
  {
   "cell_type": "code",
   "execution_count": 2,
   "metadata": {},
   "outputs": [],
   "source": [
    "team = ['HH', 'SS', 'NC', 'LG', 'SK', 'LT', 'OB', 'HT', 'KT', 'WO']"
   ]
  },
  {
   "cell_type": "code",
   "execution_count": 3,
   "metadata": {},
   "outputs": [],
   "source": [
    "for i in team:\n",
    "    globals()['{}'.format(i)] = pd.read_csv('pred/{}_predict.csv'.format(i))\n",
    "    globals()['{}'.format(i)] = globals()['{}'.format(i)][-26:]"
   ]
  },
  {
   "cell_type": "markdown",
   "metadata": {},
   "source": [
    "###  HH"
   ]
  },
  {
   "cell_type": "code",
   "execution_count": 4,
   "metadata": {},
   "outputs": [],
   "source": [
    "predHH = []\n",
    "for i in list(HH.values):\n",
    "    predHH.append(np.argmax(i))"
   ]
  },
  {
   "cell_type": "code",
   "execution_count": 5,
   "metadata": {},
   "outputs": [],
   "source": [
    "predSS = []\n",
    "for i in list(SS.values):\n",
    "    predSS.append(np.argmax(i))"
   ]
  },
  {
   "cell_type": "code",
   "execution_count": 6,
   "metadata": {},
   "outputs": [],
   "source": [
    "predNC = []\n",
    "for i in list(NC.values):\n",
    "    predNC.append(np.argmax(i))"
   ]
  },
  {
   "cell_type": "code",
   "execution_count": 7,
   "metadata": {},
   "outputs": [],
   "source": [
    "predLG = []\n",
    "for i in list(LG.values):\n",
    "    predLG.append(np.argmax(i))"
   ]
  },
  {
   "cell_type": "code",
   "execution_count": 8,
   "metadata": {},
   "outputs": [],
   "source": [
    "predSK = []\n",
    "for i in list(SK.values):\n",
    "    predSK.append(np.argmax(i))"
   ]
  },
  {
   "cell_type": "code",
   "execution_count": 9,
   "metadata": {},
   "outputs": [],
   "source": [
    "predLT = []\n",
    "for i in list(LT.values):\n",
    "    predLT.append(np.argmax(i))"
   ]
  },
  {
   "cell_type": "code",
   "execution_count": 10,
   "metadata": {},
   "outputs": [],
   "source": [
    "predOB = []\n",
    "for i in list(OB.values):\n",
    "    predOB.append(np.argmax(i))"
   ]
  },
  {
   "cell_type": "code",
   "execution_count": 11,
   "metadata": {},
   "outputs": [],
   "source": [
    "predHT = []\n",
    "for i in list(HT.values):\n",
    "    predHT.append(np.argmax(i))"
   ]
  },
  {
   "cell_type": "code",
   "execution_count": 12,
   "metadata": {},
   "outputs": [],
   "source": [
    "predKT = []\n",
    "for i in list(KT.values):\n",
    "    predKT.append(np.argmax(i))"
   ]
  },
  {
   "cell_type": "code",
   "execution_count": 13,
   "metadata": {},
   "outputs": [],
   "source": [
    "predWO = []\n",
    "for i in list(WO.values):\n",
    "    predWO.append(np.argmax(i))"
   ]
  },
  {
   "cell_type": "code",
   "execution_count": 14,
   "metadata": {},
   "outputs": [],
   "source": [
    "def inverting_label(pred, ver2, ver1):\n",
    "    for i in range(len(pred)):\n",
    "        pred[i] = ver2[pred[i]]\n",
    "    for i in range(len(pred)):\n",
    "        pred[i] = list(ver1.keys())[list(ver1.values()).index(pred[i])]"
   ]
  },
  {
   "cell_type": "code",
   "execution_count": 15,
   "metadata": {},
   "outputs": [],
   "source": [
    "SK_1 ={50815: 0, 50835: 1, 60841: 2, 62869: 3, 79847: 4, 69839: 5, 66859: 6, 64861: 7}\n",
    "\n",
    "SS_1 = {77446: 0, 69439: 1, 50404: 2, 68419: 3, 69446: 4, 74454: 5, 61365: 6, 50449: 7, 50464: 8}\n",
    "\n",
    "OB_1 = {69045: 0, 66291: 1, 50234: 2, 79229: 3, 77211: 4, 50296: 5, 67263: 6, 63292: 7}\n",
    "\n",
    "KT_1 = {50040: 0, 69032: 1, 65516: 2, 50030: 3, 68043: 4, 65048: 5, 67045: 6}\n",
    "\n",
    "\n",
    "NC_1 = {69940: 0, 50912: 1, 65933: 2, 60263: 3, 68900: 4, 66920: 5, 67954: 6}\n",
    "\n",
    "LT_1 = {50558: 0, 69539: 1, 64021: 2, 73211: 3, 76355: 4, 68529: 5, 64565: 6, 50524: 7, 78536: 8}\n",
    "\n",
    "HT_1 = {77637: 0, 50636: 1, 65616: 2, 50640: 3, 62754: 4, 69620: 5}\n",
    "\n",
    "WO_1 = {67313: 0, 69343: 1, 65320: 2, 67603: 3, 62363: 4, 60264: 5, 69360: 6, 67391: 7, 60336: 8}\n",
    "\n",
    "LG_1 = {76455: 0, 73801: 1, 78148: 2, 68135: 3, 69103: 4, 61101: 5, 50126: 6, 50157: 7}\n",
    "\n",
    "HH_1 = {69744: 0, 62611: 1, 77318: 2, 79764: 3, 69745: 4, 65764: 5, 69748: 6, 50726: 7, 65769: 8, 68701: 9}"
   ]
  },
  {
   "cell_type": "code",
   "execution_count": 16,
   "metadata": {},
   "outputs": [],
   "source": [
    "HH_2=[0, 2, 3, 5, 6]\n",
    "\n",
    "SS_2 = [0, 2, 3, 4, 7]\n",
    "\n",
    "NC_2 = [0, 1, 2, 3, 5]\n",
    "\n",
    "LG_2 = [0, 4, 2, 3, 5]\n",
    "\n",
    "SK_2 = [7, 1, 2, 3, 4]\n",
    "\n",
    "LT_2 = [0, 1, 2, 3, 7]\n",
    "\n",
    "OB_2 = [0, 1, 2, 3, 7]\n",
    "\n",
    "HT_2 =[0, 1, 2, 3, 4]\n",
    "\n",
    "KT_2=[0, 1, 2, 3, 5]\n",
    "\n",
    "WO_2=[6, 1, 2, 3, 4]"
   ]
  },
  {
   "cell_type": "code",
   "execution_count": 17,
   "metadata": {},
   "outputs": [],
   "source": [
    "# SK 20 {0: [7], 6: [4], 5: [1]}\n",
    "\n",
    "# SS 20 {8: [3, 7], 5: [0, 7], 1: [0], 6: [0]}\n",
    "\n",
    "# OB 20 {4: [7], 5: [7], 6: [7]}\n",
    "\n",
    "# KT 20 {4: [0], 6: [0]}\n",
    "\n",
    "# NC 20 {4: [5], 6: [5]}\n",
    "\n",
    "# LT 20 {5: [7], 6: [7], 8: [3], 4: [0]}\n",
    "\n",
    "# HT 20 {5: [4]}\n",
    "\n",
    "# WO 20 {7: [4], 8: [6], 0: [6], 5: [6]}\n",
    "\n",
    "# LG 20 {1: [4, 3, 5, 2], 7: [5, 2], 6: [0]}\n",
    "\n",
    "# HH 20 {1: [2, 5, 6, 3], 7: [2], 9: [6, 3], 8: [0], 4: [0]}"
   ]
  },
  {
   "cell_type": "code",
   "execution_count": 18,
   "metadata": {},
   "outputs": [],
   "source": [
    "#team = ['HH', 'SS', 'NC', 'LG', 'SK', 'LT', 'OB', 'HT', 'KT', 'WO']\n",
    "inverting_label(predHH,HH_2, HH_1)\n",
    "inverting_label(predSS,SS_2, SS_1)\n",
    "inverting_label(predNC,NC_2, NC_1)\n",
    "inverting_label(predLG,LG_2, LG_1)\n",
    "inverting_label(predSK,SK_2, SK_1)\n",
    "inverting_label(predLT,LT_2, LT_1)\n",
    "inverting_label(predOB,OB_2, OB_1)\n",
    "inverting_label(predHT,HT_2, HT_1)\n",
    "inverting_label(predKT,KT_2, KT_1)\n",
    "inverting_label(predWO,WO_2, WO_1)"
   ]
  },
  {
   "cell_type": "code",
   "execution_count": 19,
   "metadata": {
    "scrolled": true
   },
   "outputs": [
    {
     "name": "stdout",
     "output_type": "stream",
     "text": [
      "HH예측\n",
      "[69748, 79764, 69744, 77318, 65764, 69748, 79764, 69744, 77318, 65764, 69748, 79764, 69744, 77318, 65764, 69748, 79764, 69744, 77318, 65764, 69748, 79764, 69744, 77318, 65764, 69748]\n",
      "\n",
      "SS예측\n",
      "[68419, 77446, 50404, 50449, 69446, 68419, 77446, 50404, 50449, 69446, 68419, 77446, 50404, 50449, 69446, 68419, 77446, 50404, 50449, 69446, 68419, 77446, 50404, 50449, 69446, 68419]\n",
      "\n",
      "NC예측\n",
      "[60263, 66920, 69940, 50912, 65933, 60263, 66920, 69940, 50912, 65933, 60263, 66920, 69940, 50912, 65933, 60263, 66920, 69940, 50912, 65933, 60263, 66920, 69940, 50912, 65933, 60263]\n",
      "\n",
      "SK예측\n",
      "[79847, 60841, 62869, 50835, 64861, 79847, 60841, 62869, 50835, 64861, 79847, 60841, 62869, 50835, 64861, 79847, 60841, 62869, 50835, 64861, 79847, 60841, 62869, 50835, 64861, 79847]\n",
      "\n",
      "LG예측\n",
      "[76455, 69103, 68135, 78148, 61101, 76455, 69103, 68135, 78148, 61101, 76455, 69103, 68135, 78148, 61101, 76455, 69103, 68135, 78148, 61101, 76455, 69103, 68135, 78148, 61101, 76455]\n",
      "\n",
      "LT예측\n",
      "[73211, 50524, 69539, 64021, 50558, 73211, 50524, 69539, 64021, 50558, 73211, 50524, 69539, 64021, 50558, 73211, 50524, 69539, 64021, 50558, 73211, 50524, 69539, 64021, 50558, 73211]\n",
      "\n",
      "OB예측\n",
      "[63292, 66291, 69045, 50234, 63292, 63292, 66291, 69045, 50234, 63292, 63292, 66291, 69045, 50234, 63292, 63292, 66291, 69045, 50234, 63292, 63292, 66291, 69045, 50234, 63292, 63292]\n",
      "\n",
      "HT예측\n",
      "[50640, 77637, 50636, 62754, 65616, 50640, 77637, 50636, 62754, 65616, 50640, 77637, 50636, 62754, 65616, 50640, 77637, 50636, 62754, 65616, 50640, 77637, 50636, 62754, 65616, 50640]\n",
      "\n",
      "KT예측\n",
      "[69032, 65048, 65516, 65048, 50040, 69032, 65048, 65516, 65048, 50040, 69032, 65048, 65516, 65048, 50040, 69032, 65048, 65516, 65048, 50040, 69032, 65048, 65516, 65048, 50040, 69032]\n",
      "\n",
      "WO예측\n",
      "[69343, 67603, 62363, 69360, 67603, 69343, 67603, 62363, 69360, 67603, 69343, 67603, 62363, 69360, 67603, 69343, 67603, 62363, 69360, 67603, 69343, 67603, 62363, 69360, 67603, 69343]\n",
      "\n"
     ]
    }
   ],
   "source": [
    "print('HH예측')\n",
    "print(predHH)\n",
    "print()\n",
    "\n",
    "print('SS예측')\n",
    "print(predSS)\n",
    "print()\n",
    "\n",
    "print('NC예측')\n",
    "print(predNC)\n",
    "print()\n",
    "\n",
    "print('SK예측')\n",
    "print(predSK)\n",
    "print()\n",
    "\n",
    "print('LG예측')\n",
    "print(predLG)\n",
    "print()\n",
    "\n",
    "print('LT예측')\n",
    "print(predLT)\n",
    "print()\n",
    "\n",
    "print('OB예측')\n",
    "print(predOB)\n",
    "print()\n",
    "\n",
    "print('HT예측')\n",
    "print(predHT)\n",
    "print()\n",
    "\n",
    "print('KT예측')\n",
    "print(predKT)\n",
    "print()\n",
    "\n",
    "print('WO예측')\n",
    "print(predWO)\n",
    "print()"
   ]
  },
  {
   "cell_type": "code",
   "execution_count": 24,
   "metadata": {},
   "outputs": [],
   "source": [
    "data = pd.read_csv('try_2.csv', encoding = 'cp949')"
   ]
  },
  {
   "cell_type": "code",
   "execution_count": 25,
   "metadata": {},
   "outputs": [],
   "source": [
    "data = data.drop('Unnamed: 0', axis=1)"
   ]
  },
  {
   "cell_type": "code",
   "execution_count": 26,
   "metadata": {},
   "outputs": [
    {
     "data": {
      "text/html": [
       "<div>\n",
       "<style scoped>\n",
       "    .dataframe tbody tr th:only-of-type {\n",
       "        vertical-align: middle;\n",
       "    }\n",
       "\n",
       "    .dataframe tbody tr th {\n",
       "        vertical-align: top;\n",
       "    }\n",
       "\n",
       "    .dataframe thead th {\n",
       "        text-align: right;\n",
       "    }\n",
       "</style>\n",
       "<table border=\"1\" class=\"dataframe\">\n",
       "  <thead>\n",
       "    <tr style=\"text-align: right;\">\n",
       "      <th></th>\n",
       "      <th>GDAY</th>\n",
       "      <th>0</th>\n",
       "      <th>1</th>\n",
       "    </tr>\n",
       "  </thead>\n",
       "  <tbody>\n",
       "    <tr>\n",
       "      <td>341</td>\n",
       "      <td>09-04</td>\n",
       "      <td>KIA</td>\n",
       "      <td>롯데</td>\n",
       "    </tr>\n",
       "    <tr>\n",
       "      <td>75</td>\n",
       "      <td>08-01</td>\n",
       "      <td>KIA</td>\n",
       "      <td>롯데</td>\n",
       "    </tr>\n",
       "    <tr>\n",
       "      <td>388</td>\n",
       "      <td>09-10</td>\n",
       "      <td>KIA</td>\n",
       "      <td>두산</td>\n",
       "    </tr>\n",
       "    <tr>\n",
       "      <td>259</td>\n",
       "      <td>08-26</td>\n",
       "      <td>KIA</td>\n",
       "      <td>두산</td>\n",
       "    </tr>\n",
       "    <tr>\n",
       "      <td>65</td>\n",
       "      <td>07-31</td>\n",
       "      <td>KIA</td>\n",
       "      <td>롯데</td>\n",
       "    </tr>\n",
       "    <tr>\n",
       "      <td>...</td>\n",
       "      <td>...</td>\n",
       "      <td>...</td>\n",
       "      <td>...</td>\n",
       "    </tr>\n",
       "    <tr>\n",
       "      <td>445</td>\n",
       "      <td>09-17</td>\n",
       "      <td>한화</td>\n",
       "      <td>키움</td>\n",
       "    </tr>\n",
       "    <tr>\n",
       "      <td>170</td>\n",
       "      <td>08-15</td>\n",
       "      <td>한화</td>\n",
       "      <td>삼성</td>\n",
       "    </tr>\n",
       "    <tr>\n",
       "      <td>307</td>\n",
       "      <td>09-01</td>\n",
       "      <td>한화</td>\n",
       "      <td>두산</td>\n",
       "    </tr>\n",
       "    <tr>\n",
       "      <td>383</td>\n",
       "      <td>09-09</td>\n",
       "      <td>한화</td>\n",
       "      <td>삼성</td>\n",
       "    </tr>\n",
       "    <tr>\n",
       "      <td>141</td>\n",
       "      <td>08-12</td>\n",
       "      <td>한화</td>\n",
       "      <td>키움</td>\n",
       "    </tr>\n",
       "  </tbody>\n",
       "</table>\n",
       "<p>514 rows × 3 columns</p>\n",
       "</div>"
      ],
      "text/plain": [
       "      GDAY    0   1\n",
       "341  09-04  KIA  롯데\n",
       "75   08-01  KIA  롯데\n",
       "388  09-10  KIA  두산\n",
       "259  08-26  KIA  두산\n",
       "65   07-31  KIA  롯데\n",
       "..     ...  ...  ..\n",
       "445  09-17   한화  키움\n",
       "170  08-15   한화  삼성\n",
       "307  09-01   한화  두산\n",
       "383  09-09   한화  삼성\n",
       "141  08-12   한화  키움\n",
       "\n",
       "[514 rows x 3 columns]"
      ]
     },
     "execution_count": 26,
     "metadata": {},
     "output_type": "execute_result"
    }
   ],
   "source": [
    "data = data.sort_values(by=['0'], axis=0)\n",
    "data"
   ]
  },
  {
   "cell_type": "code",
   "execution_count": 27,
   "metadata": {},
   "outputs": [],
   "source": [
    "final = pd.concat([data[data['0']=='KIA'].reset_index(drop=True)[-26:],data[data['0']=='KT'].reset_index(drop=True)[-26:],\n",
    "data[data['0']=='LG'].reset_index(drop=True)[-26:],data[data['0']=='NC'].reset_index(drop=True)[-26:],\n",
    "data[data['0']=='SK'].reset_index(drop=True)[-26:],data[data['0']=='두산'].reset_index(drop=True)[-26:],\n",
    "data[data['0']=='롯데'].reset_index(drop=True)[-26:],data[data['0']=='삼성'].reset_index(drop=True)[-26:],\n",
    "data[data['0']=='키움'].reset_index(drop=True)[-26:],data[data['0']=='한화'].reset_index(drop=True)[-26:]], axis=0)"
   ]
  },
  {
   "cell_type": "code",
   "execution_count": 28,
   "metadata": {},
   "outputs": [
    {
     "data": {
      "text/html": [
       "<div>\n",
       "<style scoped>\n",
       "    .dataframe tbody tr th:only-of-type {\n",
       "        vertical-align: middle;\n",
       "    }\n",
       "\n",
       "    .dataframe tbody tr th {\n",
       "        vertical-align: top;\n",
       "    }\n",
       "\n",
       "    .dataframe thead th {\n",
       "        text-align: right;\n",
       "    }\n",
       "</style>\n",
       "<table border=\"1\" class=\"dataframe\">\n",
       "  <thead>\n",
       "    <tr style=\"text-align: right;\">\n",
       "      <th></th>\n",
       "      <th>GDAY</th>\n",
       "      <th>0</th>\n",
       "      <th>1</th>\n",
       "    </tr>\n",
       "  </thead>\n",
       "  <tbody>\n",
       "    <tr>\n",
       "      <td>25</td>\n",
       "      <td>08-02</td>\n",
       "      <td>KIA</td>\n",
       "      <td>롯데</td>\n",
       "    </tr>\n",
       "    <tr>\n",
       "      <td>26</td>\n",
       "      <td>09-03</td>\n",
       "      <td>KIA</td>\n",
       "      <td>롯데</td>\n",
       "    </tr>\n",
       "    <tr>\n",
       "      <td>27</td>\n",
       "      <td>08-05</td>\n",
       "      <td>KIA</td>\n",
       "      <td>LG</td>\n",
       "    </tr>\n",
       "    <tr>\n",
       "      <td>28</td>\n",
       "      <td>09-04</td>\n",
       "      <td>KIA</td>\n",
       "      <td>롯데</td>\n",
       "    </tr>\n",
       "    <tr>\n",
       "      <td>29</td>\n",
       "      <td>08-27</td>\n",
       "      <td>KIA</td>\n",
       "      <td>SK</td>\n",
       "    </tr>\n",
       "    <tr>\n",
       "      <td>...</td>\n",
       "      <td>...</td>\n",
       "      <td>...</td>\n",
       "      <td>...</td>\n",
       "    </tr>\n",
       "    <tr>\n",
       "      <td>46</td>\n",
       "      <td>09-17</td>\n",
       "      <td>한화</td>\n",
       "      <td>키움</td>\n",
       "    </tr>\n",
       "    <tr>\n",
       "      <td>47</td>\n",
       "      <td>08-15</td>\n",
       "      <td>한화</td>\n",
       "      <td>삼성</td>\n",
       "    </tr>\n",
       "    <tr>\n",
       "      <td>48</td>\n",
       "      <td>09-01</td>\n",
       "      <td>한화</td>\n",
       "      <td>두산</td>\n",
       "    </tr>\n",
       "    <tr>\n",
       "      <td>49</td>\n",
       "      <td>09-09</td>\n",
       "      <td>한화</td>\n",
       "      <td>삼성</td>\n",
       "    </tr>\n",
       "    <tr>\n",
       "      <td>50</td>\n",
       "      <td>08-12</td>\n",
       "      <td>한화</td>\n",
       "      <td>키움</td>\n",
       "    </tr>\n",
       "  </tbody>\n",
       "</table>\n",
       "<p>260 rows × 3 columns</p>\n",
       "</div>"
      ],
      "text/plain": [
       "     GDAY    0   1\n",
       "25  08-02  KIA  롯데\n",
       "26  09-03  KIA  롯데\n",
       "27  08-05  KIA  LG\n",
       "28  09-04  KIA  롯데\n",
       "29  08-27  KIA  SK\n",
       "..    ...  ...  ..\n",
       "46  09-17   한화  키움\n",
       "47  08-15   한화  삼성\n",
       "48  09-01   한화  두산\n",
       "49  09-09   한화  삼성\n",
       "50  08-12   한화  키움\n",
       "\n",
       "[260 rows x 3 columns]"
      ]
     },
     "execution_count": 28,
     "metadata": {},
     "output_type": "execute_result"
    }
   ],
   "source": [
    "final"
   ]
  },
  {
   "cell_type": "code",
   "execution_count": 29,
   "metadata": {},
   "outputs": [],
   "source": [
    "total_pred = predHT+ predKT+ predLG+ predNC+ predSK+ predOB+ predLT+ predSS+ predWO+ predHH"
   ]
  },
  {
   "cell_type": "code",
   "execution_count": 30,
   "metadata": {},
   "outputs": [],
   "source": [
    "final['P_ID'] = total_pred"
   ]
  },
  {
   "cell_type": "code",
   "execution_count": 32,
   "metadata": {},
   "outputs": [],
   "source": [
    "final.to_csv('2020년 후반기 선발투수 ID.csv', encoding='cp949', index=False)"
   ]
  }
 ],
 "metadata": {
  "kernelspec": {
   "display_name": "Python 3",
   "language": "python",
   "name": "python3"
  },
  "language_info": {
   "codemirror_mode": {
    "name": "ipython",
    "version": 3
   },
   "file_extension": ".py",
   "mimetype": "text/x-python",
   "name": "python",
   "nbconvert_exporter": "python",
   "pygments_lexer": "ipython3",
   "version": "3.7.4"
  }
 },
 "nbformat": 4,
 "nbformat_minor": 4
}

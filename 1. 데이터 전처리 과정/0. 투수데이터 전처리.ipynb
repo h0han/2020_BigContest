{
 "cells": [
  {
   "cell_type": "markdown",
   "metadata": {},
   "source": [
    "# 모듈 Import"
   ]
  },
  {
   "cell_type": "code",
   "execution_count": 1,
   "metadata": {},
   "outputs": [],
   "source": [
    "import pandas as pd\n",
    "import numpy as npb\n",
    "import warnings\n",
    "warnings.simplefilter(action='ignore', category=FutureWarning)\n",
    "warnings.filterwarnings(action='ignore')"
   ]
  },
  {
   "cell_type": "markdown",
   "metadata": {},
   "source": [
    "# 투수 전체 지표 생성함수"
   ]
  },
  {
   "cell_type": "code",
   "execution_count": 2,
   "metadata": {},
   "outputs": [],
   "source": [
    "df2016_psnl_pit = pd.read_csv('원본데이터/2020빅콘테스트_스포츠투아이_제공데이터_개인투수_2016.csv', engine = 'python')\n",
    "df2017_psnl_pit = pd.read_csv('원본데이터/2020빅콘테스트_스포츠투아이_제공데이터_개인투수_2017.csv', engine = 'python')\n",
    "df2018_psnl_pit = pd.read_csv('원본데이터/2020빅콘테스트_스포츠투아이_제공데이터_개인투수_2018.csv', engine = 'python')\n",
    "df2019_psnl_pit = pd.read_csv('원본데이터/2020빅콘테스트_스포츠투아이_제공데이터_개인투수_2019.csv', engine = 'python')"
   ]
  },
  {
   "cell_type": "code",
   "execution_count": 3,
   "metadata": {},
   "outputs": [
    {
     "data": {
      "text/plain": [
       "\"['INN2', 'BF', 'PA', 'AB', 'HIT', 'H2', 'H3', 'HR', 'SB', 'CS', 'SH', 'SF', 'BB', 'IB', 'HP', 'KK', 'GD', 'WP', 'BK', 'ERR', 'R', 'ER']\""
      ]
     },
     "execution_count": 3,
     "metadata": {},
     "output_type": "execute_result"
    }
   ],
   "source": [
    "features=list(df2016_psnl_pit)\n",
    "features=features[13:-3]\n",
    "teamids=['HH','HT','KT','LG','LT','NC','OB','SK','SS','WO',]\n",
    "str(features)"
   ]
  },
  {
   "cell_type": "code",
   "execution_count": 4,
   "metadata": {},
   "outputs": [],
   "source": [
    "def make_pit6(df,N):  # dictionary 형태의 dataset을 형성한다.\n",
    "    dic = {}\n",
    "    for i in range(N):\n",
    "        tid = df['T_ID'][i]\n",
    "        pid = str(df['P_ID'][i])\n",
    "        for j in features:\n",
    "            globals()['{}'.format(j)] =df[j][i]\n",
    "        if df['T_ID'][i] not in dic.keys():\n",
    "            dic[tid] = {}\n",
    "            dic[tid]= {'start' : {}, 'relief' : {}}\n",
    "            dic[tid]['relief'] = [1]\n",
    "            for j in range(len(features)):\n",
    "                dic[tid]['relief'].append(df[features[j]][i])\n",
    "\n",
    "        if df['START_CK'][i] == 1:\n",
    "            if pid not in dic[tid]['start'].keys():\n",
    "                dic[tid]['start'][pid] = [1]\n",
    "                for j in range(len(features)):\n",
    "                    dic[tid]['start'][pid].append(df[features[j]][i])\n",
    "            else:\n",
    "                dic[tid]['start'][pid][0] += 1\n",
    "                for j in range(len(features)):\n",
    "                     dic[tid]['start'][pid][j+1]+=df[features[j]][i]\n",
    "        \n",
    "        elif df['RELIEF_CK'][i] == 1 and df['START_CK'][i] == 0:\n",
    "            dic[tid]['relief'][0] += 1\n",
    "            for j in range(len(features)):\n",
    "                dic[tid]['relief'][j+1]+=df[features[j]][i]      \n",
    "    \n",
    "    return dic\n",
    "# 반환할 때 naming 유의할 것"
   ]
  },
  {
   "cell_type": "code",
   "execution_count": 5,
   "metadata": {},
   "outputs": [],
   "source": [
    "pitcher_data2016=make_pit6(df2016_psnl_pit,4982)\n",
    "pitcher_data2017=make_pit6(df2017_psnl_pit,4957)\n",
    "pitcher_data2018=make_pit6(df2018_psnl_pit,4827)\n",
    "pitcher_data2019=make_pit6(df2019_psnl_pit,4842)"
   ]
  },
  {
   "cell_type": "code",
   "execution_count": 6,
   "metadata": {},
   "outputs": [],
   "source": [
    "def make_pit7(pitcher_data):\n",
    "    for home in teamids:\n",
    "        for pid in pitcher_data[home]['start']:\n",
    "            for j in range(len(features)):\n",
    "                globals()['{}'.format(features[j])] = pitcher_data[home]['start'][pid][j+1]\n",
    "            pitcher_data[home]['start'][pid].append((HIT-H2-H3-HR+2*H2+3*H3+4*HR)/AB) #피장타율\n",
    "            pitcher_data[home]['start'][pid].append(ER/INN2*27)  #방어율\n",
    "            pitcher_data[home]['start'][pid].append(KK/BB)    #삼진/볼넷\n",
    "            pitcher_data[home]['start'][pid].append((HIT+BB+HP)/(AB+BB+HP+SF)) #피출루율\n",
    "            pitcher_data[home]['start'][pid].append((HIT-H2-H3-HR+2*H2+3*H3+4*HR)/AB+(HIT+BB+HP)/(AB+BB+HP+SF)) #피OPS\n",
    "            pitcher_data[home]['start'][pid].append(KK/INN2*27)     #9이닝당 삼진 개수\n",
    "            pitcher_data[home]['start'][pid].append(BB/INN2*27)     #9이닝당 볼넷 개수\n",
    "            pitcher_data[home]['start'][pid].append((HIT+BB+HP-R)/(HIT+BB+HP-(1.4*HR))) #잔루처리율\n",
    "        for j in range(len(features)):\n",
    "            globals()['{}'.format(features[j])] = pitcher_data[home]['relief'][j+1]    \n",
    "        pitcher_data[home]['relief'].append((HIT-H2-H3-HR+2*H2+3*H3+4*HR)/AB) #피장타율\n",
    "        pitcher_data[home]['relief'].append(ER/INN2*27)  #방어율\n",
    "        pitcher_data[home]['relief'].append(KK/BB)    #삼진/볼넷\n",
    "        pitcher_data[home]['relief'].append((HIT+BB+HP)/(AB+BB+HP+SF)) #피출루율\n",
    "        pitcher_data[home]['relief'].append((HIT-H2-H3-HR+2*H2+3*H3+4*HR)/AB+(HIT+BB+HP)/(AB+BB+HP+SF)) #피OPS\n",
    "        pitcher_data[home]['relief'].append(KK/INN2*27)     #9이닝당 삼진 개수\n",
    "        pitcher_data[home]['relief'].append(BB/INN2*27)     #9이닝당 볼넷 개수\n",
    "        pitcher_data[home]['relief'].append((HIT+BB+HP-R)/(HIT+BB+HP-(1.4*HR))) #잔루처리율\n",
    "    return pitcher_data"
   ]
  },
  {
   "cell_type": "code",
   "execution_count": 7,
   "metadata": {},
   "outputs": [],
   "source": [
    "pitcher_data_2016final=make_pit7(pitcher_data2016)\n",
    "pitcher_data_2017final=make_pit7(pitcher_data2017)\n",
    "pitcher_data_2018final=make_pit7(pitcher_data2018)\n",
    "pitcher_data_2019final=make_pit7(pitcher_data2019)"
   ]
  },
  {
   "cell_type": "markdown",
   "metadata": {},
   "source": [
    "### 팀별 불펜투수 지표"
   ]
  },
  {
   "cell_type": "code",
   "execution_count": 8,
   "metadata": {},
   "outputs": [],
   "source": [
    "from openpyxl import Workbook\n",
    "wb0 = Workbook()\n",
    "sheet1 = wb0.active\n",
    "#시트의 이름을 정합니다.\n",
    "sheet1.title = 'relief'"
   ]
  },
  {
   "cell_type": "code",
   "execution_count": 9,
   "metadata": {},
   "outputs": [],
   "source": [
    "sheet1.append(['year','home','선발불펜여부','피장타율','방어율','삼진/볼넷','피출루율','피OPS','9이닝당 삼진수','9이닝당 볼넷수','잔루처리율'])\n",
    "for home in teamids:\n",
    "    sheet1.append([2016,home,'relief',pitcher_data_2016final[home]['relief'][23],pitcher_data_2016final[home]['relief'][24],pitcher_data_2016final[home]['relief'][25],pitcher_data_2016final[home]['relief'][26],pitcher_data_2016final[home]['relief'][27],pitcher_data_2016final[home]['relief'][28],pitcher_data_2016final[home]['relief'][29],pitcher_data_2016final[home]['relief'][30]])       \n",
    "    sheet1.append([2017,home,'relief',pitcher_data_2017final[home]['relief'][23],pitcher_data_2017final[home]['relief'][24],pitcher_data_2017final[home]['relief'][25],pitcher_data_2017final[home]['relief'][26],pitcher_data_2017final[home]['relief'][27],pitcher_data_2017final[home]['relief'][28],pitcher_data_2017final[home]['relief'][29],pitcher_data_2017final[home]['relief'][30]])        \n",
    "    sheet1.append([2018,home,'relief',pitcher_data_2018final[home]['relief'][23],pitcher_data_2018final[home]['relief'][24],pitcher_data_2018final[home]['relief'][25],pitcher_data_2018final[home]['relief'][26],pitcher_data_2018final[home]['relief'][27],pitcher_data_2018final[home]['relief'][28],pitcher_data_2018final[home]['relief'][29],pitcher_data_2018final[home]['relief'][30]])            \n",
    "    sheet1.append([2019,home,'relief',pitcher_data_2019final[home]['relief'][23],pitcher_data_2019final[home]['relief'][24],pitcher_data_2019final[home]['relief'][25],pitcher_data_2019final[home]['relief'][26],pitcher_data_2019final[home]['relief'][27],pitcher_data_2019final[home]['relief'][28],pitcher_data_2019final[home]['relief'][29],pitcher_data_2019final[home]['relief'][30]])                \n",
    "wb0.save('년도별팀불펜투수별지표.xlsx')"
   ]
  },
  {
   "cell_type": "markdown",
   "metadata": {},
   "source": [
    "### 팀별 선발투수 지표"
   ]
  },
  {
   "cell_type": "code",
   "execution_count": 10,
   "metadata": {},
   "outputs": [],
   "source": [
    "wb = Workbook()\n",
    "\n",
    "sheet1 = wb.active\n",
    "\n",
    "#시트의 이름을 정합니다.\n",
    "sheet1.title = 'relief'"
   ]
  },
  {
   "cell_type": "code",
   "execution_count": 11,
   "metadata": {},
   "outputs": [],
   "source": [
    "sheet1.append(['year','home','P_ID','선발불펜여부','경기수','피장타율','방어율','삼진/볼넷','피출루율','피OPS','9이닝당 삼진수','9이닝당 볼넷수','잔루처리율'])\n",
    "for home in teamids:\n",
    "    for pid in pitcher_data_2016final[home]['start']:\n",
    "        sheet1.append([2016,home,pid,'start',pitcher_data_2016final[home]['start'][pid][0],pitcher_data_2016final[home]['start'][pid][23],pitcher_data_2016final[home]['start'][pid][24],pitcher_data_2016final[home]['start'][pid][25],pitcher_data_2016final[home]['start'][pid][26],pitcher_data_2016final[home]['start'][pid][27],pitcher_data_2016final[home]['start'][pid][28],pitcher_data_2016final[home]['start'][pid][29],pitcher_data_2016final[home]['start'][pid][30]])\n",
    "                    \n",
    "    for pid in pitcher_data_2017final[home]['start']:\n",
    "        sheet1.append([2017,home,pid,'start',pitcher_data_2017final[home]['start'][pid][0],pitcher_data_2017final[home]['start'][pid][23],pitcher_data_2017final[home]['start'][pid][24],pitcher_data_2017final[home]['start'][pid][25],pitcher_data_2017final[home]['start'][pid][26],pitcher_data_2017final[home]['start'][pid][27],pitcher_data_2017final[home]['start'][pid][28],pitcher_data_2017final[home]['start'][pid][29],pitcher_data_2017final[home]['start'][pid][30]])\n",
    "                \n",
    "    for pid in pitcher_data_2018final[home]['start']:\n",
    "        sheet1.append([2018,home,pid,'start',pitcher_data_2018final[home]['start'][pid][0],pitcher_data_2018final[home]['start'][pid][23],pitcher_data_2018final[home]['start'][pid][24],pitcher_data_2018final[home]['start'][pid][25],pitcher_data_2018final[home]['start'][pid][26],pitcher_data_2018final[home]['start'][pid][27],pitcher_data_2018final[home]['start'][pid][28],pitcher_data_2018final[home]['start'][pid][29],pitcher_data_2018final[home]['start'][pid][30]])\n",
    "    for pid in pitcher_data_2019final[home]['start']:\n",
    "        sheet1.append([2019,home,pid,'start',pitcher_data_2019final[home]['start'][pid][0],pitcher_data_2019final[home]['start'][pid][23],pitcher_data_2019final[home]['start'][pid][24],pitcher_data_2019final[home]['start'][pid][25],pitcher_data_2019final[home]['start'][pid][26],pitcher_data_2019final[home]['start'][pid][27],pitcher_data_2019final[home]['start'][pid][28],pitcher_data_2019final[home]['start'][pid][29],pitcher_data_2019final[home]['start'][pid][30]])\n",
    "        \n",
    "wb.save('년도별팀선발투수별지표.xlsx')"
   ]
  },
  {
   "cell_type": "markdown",
   "metadata": {},
   "source": [
    "# 상대팀별 투수 전체 지표 생성함수"
   ]
  },
  {
   "cell_type": "code",
   "execution_count": 12,
   "metadata": {},
   "outputs": [
    {
     "data": {
      "text/plain": [
       "\"['INN2', 'BF', 'PA', 'AB', 'HIT', 'H2', 'H3', 'HR', 'SB', 'CS', 'SH', 'SF', 'BB', 'IB', 'HP', 'KK', 'GD', 'WP', 'BK', 'ERR', 'R', 'ER']\""
      ]
     },
     "execution_count": 12,
     "metadata": {},
     "output_type": "execute_result"
    }
   ],
   "source": [
    "features=list(df2016_psnl_pit)\n",
    "features=features[13:-3]\n",
    "teamids=['HH','HT','KT','LG','LT','NC','OB','SK','SS','WO',]\n",
    "str(features)"
   ]
  },
  {
   "cell_type": "code",
   "execution_count": 13,
   "metadata": {},
   "outputs": [],
   "source": [
    "def make_pit(df,N):  # dictionary 형태의 dataset을 형성한다.\n",
    "    dic = {}\n",
    "    for i in range(N):\n",
    "        tid = df['T_ID'][i]\n",
    "        vstid = df['VS_T_ID'][i]\n",
    "        pid = str(df['P_ID'][i])\n",
    "        for j in features:\n",
    "            globals()['{}'.format(j)] =df[j][i]\n",
    "        # 팀 아이디가 딕셔너리에 없을 경우\n",
    "        if df['T_ID'][i] not in dic.keys():\n",
    "            dic[tid] = {}\n",
    "        \n",
    "        # 상대 팀 아이디가 딕셔너리에 없을 경우\n",
    "        if df['VS_T_ID'][i] not in dic[tid].keys():\n",
    "            dic[tid][vstid] = {'start' : {}, 'relief' : {}}\n",
    "            dic[tid][vstid]['relief'] = [1]\n",
    "            for j in range(len(features)):\n",
    "                dic[tid][vstid]['relief'].append(df[features[j]][i])\n",
    "        \n",
    "        \n",
    "        # 선발투수인 경우, 1) 'start' 딕셔너리에 없는 경우 새로이 추가, 이닝 수까지 추가 2) 있는 경우 plus 연산만 수행\n",
    "        if df['START_CK'][i] == 1:\n",
    "            if pid not in dic[tid][vstid]['start'].keys():\n",
    "                dic[tid][vstid]['start'][pid] = [1]\n",
    "                for j in range(len(features)):\n",
    "                    dic[tid][vstid]['start'][pid].append(df[features[j]][i])\n",
    "            else:\n",
    "                dic[tid][vstid]['start'][pid][0] += 1\n",
    "                for j in range(len(features)):\n",
    "                     dic[tid][vstid]['start'][pid][j+1]+=df[features[j]][i]\n",
    "         \n",
    "    return dic\n",
    "# 반환할 때 naming 유의할 것"
   ]
  },
  {
   "cell_type": "code",
   "execution_count": 14,
   "metadata": {},
   "outputs": [],
   "source": [
    "pitcher_data2016=make_pit(df2016_psnl_pit,4982)\n",
    "pitcher_data2017=make_pit(df2017_psnl_pit,4957)\n",
    "pitcher_data2018=make_pit(df2018_psnl_pit,4827)\n",
    "pitcher_data2019=make_pit(df2019_psnl_pit,4842)"
   ]
  },
  {
   "cell_type": "code",
   "execution_count": 15,
   "metadata": {},
   "outputs": [],
   "source": [
    "#append를 써서 함수를 돌릴때마다 값이 계속 더해짐=> 여러번 돌리면 같은 값들이 중복되서 더해짐\n",
    "def make_pit3(pitcher_data):\n",
    "    for home in teamids:\n",
    "        for away in teamids:\n",
    "            if home==away:\n",
    "                continue\n",
    "            else:\n",
    "                for pid in pitcher_data[home][away]['start']:\n",
    "                    for j in range(len(features)):\n",
    "                        globals()['{}'.format(features[j])] = pitcher_data[home][away]['start'][pid][j+1]\n",
    "                    pitcher_data[home][away]['start'][pid].append((HIT-H2-H3-HR+2*H2+3*H3+4*HR)/AB) #피장타율\n",
    "                    pitcher_data[home][away]['start'][pid].append(ER/INN2*27)  #방어율\n",
    "                    pitcher_data[home][away]['start'][pid].append(KK/BB)    #삼진/볼넷\n",
    "                    pitcher_data[home][away]['start'][pid].append((HIT+BB+HP)/(AB+BB+HP+SF)) #피출루율\n",
    "                    pitcher_data[home][away]['start'][pid].append((HIT-H2-H3-HR+2*H2+3*H3+4*HR)/AB+(HIT+BB+HP)/(AB+BB+HP+SF)) #피OPS\n",
    "                    pitcher_data[home][away]['start'][pid].append(KK/INN2*27)     #9이닝당 삼진 개수\n",
    "                    pitcher_data[home][away]['start'][pid].append(BB/INN2*27)     #9이닝당 볼넷 개수\n",
    "                    pitcher_data[home][away]['start'][pid].append((HIT+BB+HP-R)/(HIT+BB+HP-(1.4*HR))) #잔루처리율\n",
    "    return pitcher_data"
   ]
  },
  {
   "cell_type": "code",
   "execution_count": 16,
   "metadata": {},
   "outputs": [],
   "source": [
    "pitcher_data_2016final=make_pit3(pitcher_data2016)\n",
    "pitcher_data_2017final=make_pit3(pitcher_data2017)\n",
    "pitcher_data_2018final=make_pit3(pitcher_data2018)\n",
    "pitcher_data_2019final=make_pit3(pitcher_data2019)"
   ]
  },
  {
   "cell_type": "markdown",
   "metadata": {},
   "source": [
    "### 상대팀 기준 개인별 선발투수 지표"
   ]
  },
  {
   "cell_type": "code",
   "execution_count": 17,
   "metadata": {},
   "outputs": [],
   "source": [
    "wb = Workbook()\n",
    "\n",
    "\n",
    "#파일 이름을 정하고, 데이터를 넣을 시트를 활성화합니다.\n",
    "sheet1 = wb.active\n",
    "\n",
    "#시트의 이름을 정합니다.\n",
    "sheet1.title = 'sampdleSheet'"
   ]
  },
  {
   "cell_type": "code",
   "execution_count": 18,
   "metadata": {},
   "outputs": [],
   "source": [
    "sheet1.append(['year','home','away','P_ID','선발불펜여부','경기수','피장타율','방어율','삼진/볼넷','피출루율','피OPS','9이닝당 삼진수','9이닝당 볼넷수','잔루처리율'])\n",
    "for home in teamids:\n",
    "    for away in teamids:\n",
    "        if home==away:\n",
    "            continue\n",
    "        else:\n",
    "            #print(home, away)\n",
    "            for SR in ['start']:\n",
    "                for pid in pitcher_data_2016final[home][away][SR]:\n",
    "                    #print(pid,SR)\n",
    "                    sheet1.append([2016,home,away,pid,SR,pitcher_data_2016final[home][away][SR][pid][0],pitcher_data_2016final[home][away][SR][pid][23],pitcher_data_2016final[home][away][SR][pid][24],pitcher_data_2016final[home][away][SR][pid][25],pitcher_data_2016final[home][away][SR][pid][26],pitcher_data_2016final[home][away][SR][pid][27],pitcher_data_2016final[home][away][SR][pid][28],pitcher_data_2016final[home][away][SR][pid][29],pitcher_data_2016final[home][away][SR][pid][30]])                   \n",
    "                \n",
    "                for pid in pitcher_data_2017final[home][away][SR]:\n",
    "                    sheet1.append([2017,home,away,pid,SR,pitcher_data_2017final[home][away][SR][pid][0],pitcher_data_2017final[home][away][SR][pid][23],pitcher_data_2017final[home][away][SR][pid][24],pitcher_data_2017final[home][away][SR][pid][25],pitcher_data_2017final[home][away][SR][pid][26],pitcher_data_2017final[home][away][SR][pid][27],pitcher_data_2017final[home][away][SR][pid][28],pitcher_data_2017final[home][away][SR][pid][29],pitcher_data_2017final[home][away][SR][pid][30]])\n",
    "                    \n",
    "                for pid in pitcher_data_2018final[home][away][SR]:\n",
    "                    sheet1.append([2018,home,away,pid,SR,pitcher_data_2018final[home][away][SR][pid][0],pitcher_data_2018final[home][away][SR][pid][23],pitcher_data_2018final[home][away][SR][pid][24],pitcher_data_2018final[home][away][SR][pid][25],pitcher_data_2018final[home][away][SR][pid][26],pitcher_data_2018final[home][away][SR][pid][27],pitcher_data_2018final[home][away][SR][pid][28],pitcher_data_2018final[home][away][SR][pid][29],pitcher_data_2018final[home][away][SR][pid][30]])\n",
    "                \n",
    "                for pid in pitcher_data_2019final[home][away][SR]:\n",
    "                    sheet1.append([2019,home,away,pid,SR,pitcher_data_2019final[home][away][SR][pid][0],pitcher_data_2019final[home][away][SR][pid][23],pitcher_data_2019final[home][away][SR][pid][24],pitcher_data_2019final[home][away][SR][pid][25],pitcher_data_2019final[home][away][SR][pid][26],pitcher_data_2019final[home][away][SR][pid][27],pitcher_data_2019final[home][away][SR][pid][28],pitcher_data_2019final[home][away][SR][pid][29],pitcher_data_2019final[home][away][SR][pid][30]])\n",
    "                \n",
    "wb.save('년도별개인선발투수상대팀별지표.xlsx')"
   ]
  },
  {
   "cell_type": "markdown",
   "metadata": {},
   "source": [
    "### 상대팀 기준 개인별 불펜투수 지표"
   ]
  },
  {
   "cell_type": "code",
   "execution_count": 19,
   "metadata": {},
   "outputs": [],
   "source": [
    "def make_pit4(df,N):  # dictionary 형태의 dataset을 형성한다.\n",
    "    dic = {}\n",
    "    for i in range(N):\n",
    "        tid = df['T_ID'][i]\n",
    "        vstid = df['VS_T_ID'][i]\n",
    "        pid = str(df['P_ID'][i])\n",
    "        for j in features:\n",
    "            globals()['{}'.format(j)] =df[j][i]\n",
    "        # 팀 아이디가 딕셔너리에 없을 경우\n",
    "        if df['T_ID'][i] not in dic.keys():\n",
    "            dic[tid] = {}\n",
    "        \n",
    "        # 상대 팀 아이디가 딕셔너리에 없을 경우\n",
    "        if df['VS_T_ID'][i] not in dic[tid].keys():\n",
    "            dic[tid][vstid] = {'start' : {}, 'relief' : {}}\n",
    "            dic[tid][vstid]['relief'] = [1]\n",
    "            for j in range(len(features)):\n",
    "                dic[tid][vstid]['relief'].append(df[features[j]][i])\n",
    "        \n",
    "        \n",
    "        # 중간계투인 경우. 선발 투수의 경우와 유사\n",
    "        if df['RELIEF_CK'][i] == 1 and df['START_CK'][i] == 0:\n",
    "            dic[tid][vstid]['relief'][0] += 1\n",
    "            for j in range(len(features)):\n",
    "                dic[tid][vstid]['relief'][j+1]+=df[features[j]][i]      \n",
    "    \n",
    "    return dic\n",
    "# 반환할 때 naming 유의할 것"
   ]
  },
  {
   "cell_type": "code",
   "execution_count": 20,
   "metadata": {},
   "outputs": [],
   "source": [
    "pitcher_data2016=make_pit4(df2016_psnl_pit,4982)\n",
    "pitcher_data2017=make_pit4(df2017_psnl_pit,4957)\n",
    "pitcher_data2018=make_pit4(df2018_psnl_pit,4827)\n",
    "pitcher_data2019=make_pit4(df2019_psnl_pit,4842)"
   ]
  },
  {
   "cell_type": "code",
   "execution_count": 21,
   "metadata": {},
   "outputs": [],
   "source": [
    "def make_pit5(pitcher_data):\n",
    "    for home in teamids:\n",
    "        for away in teamids:\n",
    "            if home==away:\n",
    "                continue\n",
    "            else:\n",
    "                for j in range(len(features)):\n",
    "                    globals()['{}'.format(features[j])] = pitcher_data[home][away]['relief'][j+1]\n",
    "                pitcher_data[home][away]['relief'].append((HIT-H2-H3-HR+2*H2+3*H3+4*HR)/AB) #피장타율\n",
    "                pitcher_data[home][away]['relief'].append(ER/INN2*27)  #방어율\n",
    "                pitcher_data[home][away]['relief'].append(KK/BB)    #삼진/볼넷\n",
    "                pitcher_data[home][away]['relief'].append((HIT+BB+HP)/(AB+BB+HP+SF)) #피출루율\n",
    "                pitcher_data[home][away]['relief'].append((HIT-H2-H3-HR+2*H2+3*H3+4*HR)/AB+(HIT+BB+HP)/(AB+BB+HP+SF)) #피OPS\n",
    "                pitcher_data[home][away]['relief'].append(KK/INN2*27)     #9이닝당 삼진 개수\n",
    "                pitcher_data[home][away]['relief'].append(BB/INN2*27)     #9이닝당 볼넷 개수\n",
    "                pitcher_data[home][away]['relief'].append((HIT+BB+HP-R)/(HIT+BB+HP-(1.4*HR))) #잔루처리율\n",
    "    return pitcher_data"
   ]
  },
  {
   "cell_type": "code",
   "execution_count": 22,
   "metadata": {},
   "outputs": [],
   "source": [
    "pitcher_data_2016final=make_pit5(pitcher_data2016)\n",
    "pitcher_data_2017final=make_pit5(pitcher_data2017)\n",
    "pitcher_data_2018final=make_pit5(pitcher_data2018)\n",
    "pitcher_data_2019final=make_pit5(pitcher_data2019)"
   ]
  },
  {
   "cell_type": "code",
   "execution_count": 23,
   "metadata": {},
   "outputs": [],
   "source": [
    "wb3 = Workbook()\n",
    "\n",
    "#파일 이름을 정하고, 데이터를 넣을 시트를 활성화합니다.\n",
    "sheet1 = wb3.active\n",
    "\n",
    "#시트의 이름을 정합니다.\n",
    "sheet1.title = 'sampleSheet'"
   ]
  },
  {
   "cell_type": "code",
   "execution_count": 24,
   "metadata": {},
   "outputs": [],
   "source": [
    "sheet1.append(['year','home','away','선발불펜여부','피장타율','방어율','삼진/볼넷','피출루율','피OPS','9이닝당 삼진수','9이닝당 볼넷수','잔루처리율'])\n",
    "for home in teamids:\n",
    "    for away in teamids:\n",
    "        if home==away:\n",
    "            continue\n",
    "        else:\n",
    "            #print(home, away)\n",
    "            sheet1.append([2016,home,away,'relief',pitcher_data_2016final[home][away]['relief'][23],pitcher_data_2016final[home][away]['relief'][24],pitcher_data_2016final[home][away]['relief'][25],pitcher_data_2016final[home][away]['relief'][26],pitcher_data_2016final[home][away]['relief'][27],pitcher_data_2016final[home][away]['relief'][28],pitcher_data_2016final[home][away]['relief'][29],pitcher_data_2016final[home][away]['relief'][30]])            \n",
    "            sheet1.append([2017,home,away,'relief',pitcher_data_2017final[home][away]['relief'][23],pitcher_data_2017final[home][away]['relief'][24],pitcher_data_2017final[home][away]['relief'][25],pitcher_data_2017final[home][away]['relief'][26],pitcher_data_2017final[home][away]['relief'][27],pitcher_data_2017final[home][away]['relief'][28],pitcher_data_2017final[home][away]['relief'][29],pitcher_data_2017final[home][away]['relief'][30]])\n",
    "            sheet1.append([2018,home,away,'relief',pitcher_data_2018final[home][away]['relief'][23],pitcher_data_2018final[home][away]['relief'][24],pitcher_data_2018final[home][away]['relief'][25],pitcher_data_2018final[home][away]['relief'][26],pitcher_data_2018final[home][away]['relief'][27],pitcher_data_2018final[home][away]['relief'][28],pitcher_data_2018final[home][away]['relief'][29],pitcher_data_2018final[home][away]['relief'][30]])\n",
    "            sheet1.append([2019,home,away,'relief',pitcher_data_2019final[home][away]['relief'][23],pitcher_data_2019final[home][away]['relief'][24],pitcher_data_2019final[home][away]['relief'][25],pitcher_data_2019final[home][away]['relief'][26],pitcher_data_2019final[home][away]['relief'][27],pitcher_data_2019final[home][away]['relief'][28],pitcher_data_2019final[home][away]['relief'][29],pitcher_data_2019final[home][away]['relief'][30]])        \n",
    "wb3.save('년도별개인불펜투수상대팀별지표.xlsx')"
   ]
  },
  {
   "cell_type": "markdown",
   "metadata": {},
   "source": [
    "# Input 선발투수데이터 생성"
   ]
  },
  {
   "cell_type": "code",
   "execution_count": 25,
   "metadata": {},
   "outputs": [
    {
     "data": {
      "text/html": [
       "<div>\n",
       "<style scoped>\n",
       "    .dataframe tbody tr th:only-of-type {\n",
       "        vertical-align: middle;\n",
       "    }\n",
       "\n",
       "    .dataframe tbody tr th {\n",
       "        vertical-align: top;\n",
       "    }\n",
       "\n",
       "    .dataframe thead th {\n",
       "        text-align: right;\n",
       "    }\n",
       "</style>\n",
       "<table border=\"1\" class=\"dataframe\">\n",
       "  <thead>\n",
       "    <tr style=\"text-align: right;\">\n",
       "      <th></th>\n",
       "      <th>year</th>\n",
       "      <th>home</th>\n",
       "      <th>away</th>\n",
       "      <th>P_ID</th>\n",
       "      <th>선발불펜여부</th>\n",
       "      <th>경기수</th>\n",
       "      <th>피장타율</th>\n",
       "      <th>방어율</th>\n",
       "      <th>삼진/볼넷</th>\n",
       "      <th>피출루율</th>\n",
       "      <th>피OPS</th>\n",
       "      <th>9이닝당 삼진수</th>\n",
       "      <th>9이닝당 볼넷수</th>\n",
       "      <th>잔루처리율</th>\n",
       "    </tr>\n",
       "  </thead>\n",
       "  <tbody>\n",
       "    <tr>\n",
       "      <td>0</td>\n",
       "      <td>2016</td>\n",
       "      <td>HH</td>\n",
       "      <td>HT</td>\n",
       "      <td>66748</td>\n",
       "      <td>start</td>\n",
       "      <td>1</td>\n",
       "      <td>0.166667</td>\n",
       "      <td>0.000000</td>\n",
       "      <td>3.000000</td>\n",
       "      <td>0.250000</td>\n",
       "      <td>0.416667</td>\n",
       "      <td>9.000000</td>\n",
       "      <td>3.000000</td>\n",
       "      <td>1.000000</td>\n",
       "    </tr>\n",
       "    <tr>\n",
       "      <td>1</td>\n",
       "      <td>2016</td>\n",
       "      <td>HH</td>\n",
       "      <td>HT</td>\n",
       "      <td>73801</td>\n",
       "      <td>start</td>\n",
       "      <td>2</td>\n",
       "      <td>0.468750</td>\n",
       "      <td>7.363636</td>\n",
       "      <td>1.333333</td>\n",
       "      <td>0.432432</td>\n",
       "      <td>0.901182</td>\n",
       "      <td>4.909091</td>\n",
       "      <td>3.681818</td>\n",
       "      <td>0.684932</td>\n",
       "    </tr>\n",
       "    <tr>\n",
       "      <td>2</td>\n",
       "      <td>2016</td>\n",
       "      <td>HH</td>\n",
       "      <td>HT</td>\n",
       "      <td>65742</td>\n",
       "      <td>start</td>\n",
       "      <td>1</td>\n",
       "      <td>0.291667</td>\n",
       "      <td>2.700000</td>\n",
       "      <td>1.000000</td>\n",
       "      <td>0.333333</td>\n",
       "      <td>0.625000</td>\n",
       "      <td>2.700000</td>\n",
       "      <td>2.700000</td>\n",
       "      <td>0.555556</td>\n",
       "    </tr>\n",
       "    <tr>\n",
       "      <td>3</td>\n",
       "      <td>2016</td>\n",
       "      <td>HH</td>\n",
       "      <td>HT</td>\n",
       "      <td>74167</td>\n",
       "      <td>start</td>\n",
       "      <td>3</td>\n",
       "      <td>0.500000</td>\n",
       "      <td>8.379310</td>\n",
       "      <td>1.333333</td>\n",
       "      <td>0.391304</td>\n",
       "      <td>0.891304</td>\n",
       "      <td>3.724138</td>\n",
       "      <td>2.793103</td>\n",
       "      <td>0.592105</td>\n",
       "    </tr>\n",
       "    <tr>\n",
       "      <td>4</td>\n",
       "      <td>2016</td>\n",
       "      <td>HH</td>\n",
       "      <td>HT</td>\n",
       "      <td>73750</td>\n",
       "      <td>start</td>\n",
       "      <td>2</td>\n",
       "      <td>0.500000</td>\n",
       "      <td>7.714286</td>\n",
       "      <td>2.400000</td>\n",
       "      <td>0.350000</td>\n",
       "      <td>0.850000</td>\n",
       "      <td>11.571429</td>\n",
       "      <td>4.821429</td>\n",
       "      <td>0.535714</td>\n",
       "    </tr>\n",
       "    <tr>\n",
       "      <td>...</td>\n",
       "      <td>...</td>\n",
       "      <td>...</td>\n",
       "      <td>...</td>\n",
       "      <td>...</td>\n",
       "      <td>...</td>\n",
       "      <td>...</td>\n",
       "      <td>...</td>\n",
       "      <td>...</td>\n",
       "      <td>...</td>\n",
       "      <td>...</td>\n",
       "      <td>...</td>\n",
       "      <td>...</td>\n",
       "      <td>...</td>\n",
       "      <td>...</td>\n",
       "    </tr>\n",
       "    <tr>\n",
       "      <td>2361</td>\n",
       "      <td>2019</td>\n",
       "      <td>WO</td>\n",
       "      <td>SS</td>\n",
       "      <td>67313</td>\n",
       "      <td>start</td>\n",
       "      <td>3</td>\n",
       "      <td>0.375000</td>\n",
       "      <td>2.000000</td>\n",
       "      <td>2.285714</td>\n",
       "      <td>0.253521</td>\n",
       "      <td>0.628521</td>\n",
       "      <td>8.000000</td>\n",
       "      <td>3.500000</td>\n",
       "      <td>0.855263</td>\n",
       "    </tr>\n",
       "    <tr>\n",
       "      <td>2362</td>\n",
       "      <td>2019</td>\n",
       "      <td>WO</td>\n",
       "      <td>SS</td>\n",
       "      <td>65320</td>\n",
       "      <td>start</td>\n",
       "      <td>1</td>\n",
       "      <td>0.416667</td>\n",
       "      <td>4.500000</td>\n",
       "      <td>3.000000</td>\n",
       "      <td>0.346154</td>\n",
       "      <td>0.762821</td>\n",
       "      <td>9.000000</td>\n",
       "      <td>3.000000</td>\n",
       "      <td>0.789474</td>\n",
       "    </tr>\n",
       "    <tr>\n",
       "      <td>2363</td>\n",
       "      <td>2019</td>\n",
       "      <td>WO</td>\n",
       "      <td>SS</td>\n",
       "      <td>67603</td>\n",
       "      <td>start</td>\n",
       "      <td>1</td>\n",
       "      <td>0.900000</td>\n",
       "      <td>22.500000</td>\n",
       "      <td>0.500000</td>\n",
       "      <td>0.615385</td>\n",
       "      <td>1.515385</td>\n",
       "      <td>4.500000</td>\n",
       "      <td>9.000000</td>\n",
       "      <td>0.454545</td>\n",
       "    </tr>\n",
       "    <tr>\n",
       "      <td>2364</td>\n",
       "      <td>2019</td>\n",
       "      <td>WO</td>\n",
       "      <td>SS</td>\n",
       "      <td>66018</td>\n",
       "      <td>start</td>\n",
       "      <td>1</td>\n",
       "      <td>0.117647</td>\n",
       "      <td>0.000000</td>\n",
       "      <td>NaN</td>\n",
       "      <td>0.117647</td>\n",
       "      <td>0.235294</td>\n",
       "      <td>5.400000</td>\n",
       "      <td>0.000000</td>\n",
       "      <td>1.000000</td>\n",
       "    </tr>\n",
       "    <tr>\n",
       "      <td>2365</td>\n",
       "      <td>2019</td>\n",
       "      <td>WO</td>\n",
       "      <td>SS</td>\n",
       "      <td>62937</td>\n",
       "      <td>start</td>\n",
       "      <td>1</td>\n",
       "      <td>0.454545</td>\n",
       "      <td>3.857143</td>\n",
       "      <td>0.500000</td>\n",
       "      <td>0.466667</td>\n",
       "      <td>0.921212</td>\n",
       "      <td>3.857143</td>\n",
       "      <td>7.714286</td>\n",
       "      <td>0.714286</td>\n",
       "    </tr>\n",
       "  </tbody>\n",
       "</table>\n",
       "<p>2366 rows × 14 columns</p>\n",
       "</div>"
      ],
      "text/plain": [
       "      year home away   P_ID 선발불펜여부  경기수      피장타율        방어율     삼진/볼넷  \\\n",
       "0     2016   HH   HT  66748  start    1  0.166667   0.000000  3.000000   \n",
       "1     2016   HH   HT  73801  start    2  0.468750   7.363636  1.333333   \n",
       "2     2016   HH   HT  65742  start    1  0.291667   2.700000  1.000000   \n",
       "3     2016   HH   HT  74167  start    3  0.500000   8.379310  1.333333   \n",
       "4     2016   HH   HT  73750  start    2  0.500000   7.714286  2.400000   \n",
       "...    ...  ...  ...    ...    ...  ...       ...        ...       ...   \n",
       "2361  2019   WO   SS  67313  start    3  0.375000   2.000000  2.285714   \n",
       "2362  2019   WO   SS  65320  start    1  0.416667   4.500000  3.000000   \n",
       "2363  2019   WO   SS  67603  start    1  0.900000  22.500000  0.500000   \n",
       "2364  2019   WO   SS  66018  start    1  0.117647   0.000000       NaN   \n",
       "2365  2019   WO   SS  62937  start    1  0.454545   3.857143  0.500000   \n",
       "\n",
       "          피출루율      피OPS   9이닝당 삼진수  9이닝당 볼넷수     잔루처리율  \n",
       "0     0.250000  0.416667   9.000000  3.000000  1.000000  \n",
       "1     0.432432  0.901182   4.909091  3.681818  0.684932  \n",
       "2     0.333333  0.625000   2.700000  2.700000  0.555556  \n",
       "3     0.391304  0.891304   3.724138  2.793103  0.592105  \n",
       "4     0.350000  0.850000  11.571429  4.821429  0.535714  \n",
       "...        ...       ...        ...       ...       ...  \n",
       "2361  0.253521  0.628521   8.000000  3.500000  0.855263  \n",
       "2362  0.346154  0.762821   9.000000  3.000000  0.789474  \n",
       "2363  0.615385  1.515385   4.500000  9.000000  0.454545  \n",
       "2364  0.117647  0.235294   5.400000  0.000000  1.000000  \n",
       "2365  0.466667  0.921212   3.857143  7.714286  0.714286  \n",
       "\n",
       "[2366 rows x 14 columns]"
      ]
     },
     "execution_count": 25,
     "metadata": {},
     "output_type": "execute_result"
    }
   ],
   "source": [
    "df2016_psnl_pit = pd.read_csv('원본데이터/2020빅콘테스트_스포츠투아이_제공데이터_개인투수_2016.csv', engine = 'python')\n",
    "df2017_psnl_pit = pd.read_csv('원본데이터/2020빅콘테스트_스포츠투아이_제공데이터_개인투수_2017.csv', engine = 'python')\n",
    "df2018_psnl_pit = pd.read_csv('원본데이터/2020빅콘테스트_스포츠투아이_제공데이터_개인투수_2018.csv', engine = 'python')\n",
    "df2019_psnl_pit = pd.read_csv('원본데이터/2020빅콘테스트_스포츠투아이_제공데이터_개인투수_2019.csv', engine = 'python')\n",
    "\n",
    "df = pd.read_excel('년도별개인선발투수상대팀별지표.xlsx')\n",
    "df"
   ]
  },
  {
   "cell_type": "code",
   "execution_count": 26,
   "metadata": {},
   "outputs": [],
   "source": [
    "wb1 = Workbook()\n",
    "\n",
    "#파일 이름을 정하고, 데이터를 넣을 시트를 활성화합니다.\n",
    "sheet1 = wb1.active\n",
    "sheet1.title = 'sampleSheet'\n",
    "sheet1.append(['G_ID','GDAY_DS','T_ID','VS_T_ID','투수 ID','선발불펜여부','경기수','피장타율','방어율','삼진/볼넷','피출루율','피OPS','9이닝당 삼진수','9이닝당 볼넷수','잔루처리율','해당경기 선발 실점'])"
   ]
  },
  {
   "cell_type": "code",
   "execution_count": 27,
   "metadata": {},
   "outputs": [],
   "source": [
    "def final_make(dfpsnl,N,year):  # dictionary 형태의 dataset을 형성한다.\n",
    "    for i in range(N,len(dfpsnl)):\n",
    "        if dfpsnl['START_CK'][i]==1:\n",
    "            T_ID=dfpsnl['T_ID'][i]\n",
    "            VS_T_ID=dfpsnl['VS_T_ID'][i]\n",
    "            P_ID=dfpsnl['P_ID'][i]\n",
    "            column=df[(df['P_ID'] == P_ID) & (df['home']==T_ID) &(df['away']==VS_T_ID) &(df['year']==year) ]\n",
    "            #print(P_ID,T_ID,VS_T_ID,year,column.values)\n",
    "            if column.empty:\n",
    "                #print(11)\n",
    "                continue\n",
    "            else:\n",
    "                #print(column.values.tolist()[0][9:])\n",
    "                sheet1.append([dfpsnl['G_ID'][i],dfpsnl['GDAY_DS'][i],T_ID,VS_T_ID,P_ID]+column.values.tolist()[0][4:]+[dfpsnl['R'][i]])"
   ]
  },
  {
   "cell_type": "code",
   "execution_count": 28,
   "metadata": {},
   "outputs": [],
   "source": [
    "final_make(df2016_psnl_pit,4982,2016)\n",
    "final_make(df2017_psnl_pit,4957,2017)\n",
    "final_make(df2018_psnl_pit,4827,2018)\n",
    "final_make(df2019_psnl_pit,4842,2019)"
   ]
  },
  {
   "cell_type": "code",
   "execution_count": 29,
   "metadata": {},
   "outputs": [],
   "source": [
    "wb1.save('모델input_투수데이터_선발.xlsx')"
   ]
  },
  {
   "cell_type": "markdown",
   "metadata": {},
   "source": [
    "# Input 선발투수데이터 생성 (상대팀 기준)"
   ]
  },
  {
   "cell_type": "code",
   "execution_count": 30,
   "metadata": {},
   "outputs": [],
   "source": [
    "df = pd.read_excel('년도별팀선발투수별지표.xlsx')"
   ]
  },
  {
   "cell_type": "code",
   "execution_count": 31,
   "metadata": {},
   "outputs": [],
   "source": [
    "wb2 = Workbook()\n",
    "\n",
    "#파일 이름을 정하고, 데이터를 넣을 시트를 활성화합니다.\n",
    "sheet1 = wb2.active\n",
    "sheet1.title = 'sampleSheet'\n",
    "sheet1.append(['G_ID','GDAY_DS','T_ID','VS_T_ID','P_ID','경기수','피장타율','방어율','삼진/볼넷','피출루율','피OPS','9이닝당 삼진수','9이닝당 볼넷수','잔루처리율'])"
   ]
  },
  {
   "cell_type": "code",
   "execution_count": 32,
   "metadata": {},
   "outputs": [],
   "source": [
    "def final_make2(dfpsnl,N,year):  # dictionary 형태의 dataset을 형성한다.\n",
    "    for i in range(N,len(dfpsnl)):\n",
    "        if dfpsnl['START_CK'][i]==1:\n",
    "            T_ID=dfpsnl['T_ID'][i]\n",
    "            VS_T_ID=dfpsnl['VS_T_ID'][i]\n",
    "            P_ID=dfpsnl['P_ID'][i]\n",
    "            column=df[(df['P_ID'] == P_ID) & (df['home']==T_ID) &(df['year']==year) ]\n",
    "            if column.empty:\n",
    "                continue\n",
    "            else:\n",
    "                sheet1.append([dfpsnl['G_ID'][i],dfpsnl['GDAY_DS'][i], T_ID, VS_T_ID, P_ID]+column.values.tolist()[0][4:])"
   ]
  },
  {
   "cell_type": "code",
   "execution_count": 33,
   "metadata": {},
   "outputs": [],
   "source": [
    "final_make2(df2016_psnl_pit,4982,2016)\n",
    "final_make2(df2017_psnl_pit,4957,2017)\n",
    "final_make2(df2018_psnl_pit,4827,2018)\n",
    "final_make2(df2019_psnl_pit,4842,2019)"
   ]
  },
  {
   "cell_type": "code",
   "execution_count": 34,
   "metadata": {},
   "outputs": [],
   "source": [
    "wb2.save('모델input_투수데이터_선발_상대팀고려.xlsx')"
   ]
  },
  {
   "cell_type": "markdown",
   "metadata": {},
   "source": [
    "# Input 불펜투수데이터 생성"
   ]
  },
  {
   "cell_type": "code",
   "execution_count": 35,
   "metadata": {},
   "outputs": [],
   "source": [
    "df = pd.read_excel('년도별개인불펜투수상대팀별지표.xlsx')"
   ]
  },
  {
   "cell_type": "code",
   "execution_count": 36,
   "metadata": {},
   "outputs": [],
   "source": [
    "wb4 = Workbook()\n",
    "\n",
    "#파일 이름을 정하고, 데이터를 넣을 시트를 활성화합니다.\n",
    "sheet1 = wb4.active\n",
    "sheet1.title = 'sampleSheet'\n",
    "sheet1.append(['G_ID','GDAY_DS','T_ID','VS_T_ID','피장타율','방어율','삼진/볼넷','피출루율','피OPS','9이닝당 삼진수','9이닝당 볼넷수','잔루처리율'])"
   ]
  },
  {
   "cell_type": "code",
   "execution_count": 37,
   "metadata": {},
   "outputs": [],
   "source": [
    "def final_make2(dfpsnl,N,year):  # dictionary 형태의 dataset을 형성한다.\n",
    "    for i in range(N,len(dfpsnl)):\n",
    "        T_ID=dfpsnl['T_ID'][i]\n",
    "        VS_T_ID=dfpsnl['VS_T_ID'][i]\n",
    "        column1=df[(df['home']==T_ID) &(df['away']==VS_T_ID) &(df['year']==year) ]\n",
    "        column2=df[(df['away']==T_ID) &(df['home']==VS_T_ID) &(df['year']==year) ]\n",
    "        if column1.empty:\n",
    "            continue\n",
    "        else:\n",
    "            #print(column1.values.tolist()[0][9:])\n",
    "            sheet1.append([dfpsnl['G_ID'][i],dfpsnl['GDAY_DS'][i],T_ID,VS_T_ID]+column1.values.tolist()[0][4:])\n",
    "            sheet1.append([dfpsnl['G_ID'][i],dfpsnl['GDAY_DS'][i],VS_T_ID,T_ID]+column2.values.tolist()[0][4:])"
   ]
  },
  {
   "cell_type": "code",
   "execution_count": 38,
   "metadata": {},
   "outputs": [],
   "source": [
    "final_make2(df2016_psnl_pit,565,2016)\n",
    "final_make2(df2017_psnl_pit,576,2017)\n",
    "final_make2(df2018_psnl_pit,568,2018)\n",
    "final_make2(df2019_psnl_pit,558,2019)"
   ]
  },
  {
   "cell_type": "code",
   "execution_count": 39,
   "metadata": {},
   "outputs": [],
   "source": [
    "wb4.save('모델input_투수데이터_불펜.xlsx')"
   ]
  },
  {
   "cell_type": "markdown",
   "metadata": {},
   "source": [
    "# Input 불펜투수데이터 생성 (상대팀 기준)"
   ]
  },
  {
   "cell_type": "code",
   "execution_count": 40,
   "metadata": {},
   "outputs": [],
   "source": [
    "df = pd.read_excel('년도별팀불펜투수별지표.xlsx')"
   ]
  },
  {
   "cell_type": "code",
   "execution_count": 41,
   "metadata": {},
   "outputs": [],
   "source": [
    "wb = Workbook()\n",
    "\n",
    "#파일 이름을 정하고, 데이터를 넣을 시트를 활성화합니다.\n",
    "sheet1 = wb.active\n",
    "sheet1.title = 'sampleSheet'\n",
    "sheet1.append(['G_ID','GDAY_DS','T_ID','VS_T_ID','피장타율','방어율','삼진/볼넷','피출루율','피OPS','9이닝당 삼진수','9이닝당 볼넷수','잔루처리율'])"
   ]
  },
  {
   "cell_type": "code",
   "execution_count": 42,
   "metadata": {},
   "outputs": [],
   "source": [
    "def final_make3(dfpsnl,N,year):  # dictionary 형태의 dataset을 형성한다.\n",
    "    for i in range(N,len(dfpsnl)):\n",
    "        T_ID=dfpsnl['T_ID'][i]\n",
    "        VS_T_ID=dfpsnl['VS_T_ID'][i]\n",
    "        column1=df[(df['home']==T_ID)  &(df['year']==year) ]\n",
    "        column2=df[(df['home']==VS_T_ID) &(df['year']==year) ]\n",
    "        if column1.empty:\n",
    "            continue\n",
    "        else:\n",
    "            sheet1.append([dfpsnl['G_ID'][i],dfpsnl['GDAY_DS'][i],T_ID,VS_T_ID]+column1.values.tolist()[0][3:])\n",
    "            sheet1.append([dfpsnl['G_ID'][i],dfpsnl['GDAY_DS'][i],VS_T_ID,T_ID]+column2.values.tolist()[0][3:])"
   ]
  },
  {
   "cell_type": "code",
   "execution_count": 43,
   "metadata": {},
   "outputs": [],
   "source": [
    "final_make3(df2016_psnl_pit,565,2016)\n",
    "final_make3(df2017_psnl_pit,576,2017)\n",
    "final_make3(df2018_psnl_pit,568,2018)\n",
    "final_make3(df2019_psnl_pit,558,2019)"
   ]
  },
  {
   "cell_type": "code",
   "execution_count": 44,
   "metadata": {},
   "outputs": [],
   "source": [
    "wb.save('모델input_투수데이터_불펜_상대팀고려.xlsx')"
   ]
  }
 ],
 "metadata": {
  "kernelspec": {
   "display_name": "Python 3",
   "language": "python",
   "name": "python3"
  },
  "language_info": {
   "codemirror_mode": {
    "name": "ipython",
    "version": 3
   },
   "file_extension": ".py",
   "mimetype": "text/x-python",
   "name": "python",
   "nbconvert_exporter": "python",
   "pygments_lexer": "ipython3",
   "version": "3.7.4"
  }
 },
 "nbformat": 4,
 "nbformat_minor": 4
}
